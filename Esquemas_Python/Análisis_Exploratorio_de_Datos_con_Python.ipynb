{
  "nbformat": 4,
  "nbformat_minor": 0,
  "metadata": {
    "colab": {
      "name": "Análisis Exploratorio de Datos con Python.ipynb",
      "provenance": [],
      "collapsed_sections": []
    },
    "kernelspec": {
      "name": "python3",
      "display_name": "Python 3"
    },
    "language_info": {
      "name": "python"
    }
  },
  "cells": [
    {
      "cell_type": "markdown",
      "metadata": {
        "id": "XSrBJdwrr92e"
      },
      "source": [
        "# **Análisis Exploratorio de Datos con Python**\n",
        "El presente cuaderno muestra las principales operaciones de *data wrangling* (manejo de dataframes), así como el cálculo de estadísticos descriptivos y la visualización de gráficos básicos, es decir, las operaciones que componen un análisis exploratorio de datos clásico."
      ]
    },
    {
      "cell_type": "markdown",
      "metadata": {
        "id": "p8ihnhn8sbxy"
      },
      "source": [
        "### Librerías:"
      ]
    },
    {
      "cell_type": "code",
      "metadata": {
        "id": "GYOgBH6UsUWq"
      },
      "source": [
        "import pandas as pd #Para el manejo de dataframes\n",
        "import numpy as np #Para trabajar con arrays y para realizar operaciones matemáticas y estadísticas básicas\n",
        "import matplotlib.pyplot as plt #Para realizar gráficos\n",
        "import statistics #Para calcular estadísticos descriptivos"
      ],
      "execution_count": null,
      "outputs": []
    },
    {
      "cell_type": "markdown",
      "metadata": {
        "id": "z2BpexAdst45"
      },
      "source": [
        "### Datos:"
      ]
    },
    {
      "cell_type": "code",
      "metadata": {
        "id": "fulq88Rbs3XE",
        "colab": {
          "base_uri": "https://localhost:8080/"
        },
        "outputId": "bb480f12-c1fb-46b3-a917-4ac385f993da"
      },
      "source": [
        "np.random.seed(2021) #Establecemos una semilla para facilitar la reproductibilidad de los resultados\n",
        "\n",
        "#Creamos un dataset con una columna de IDs, tres variables continuas (altura, sexo y edad) y una categórica (sexo), y 250 observaciones:\n",
        "datos1 = pd.DataFrame(\n",
        "    {\n",
        "     \"ID\": range(1,251), #Los IDs serán los números entre 1 y 250 (ponemos 251, porque Python para de contar en el número anterior al que ponemos)\n",
        "     \"Sexo\": np.random.choice([\"Hombre\", \"Mujer\"], 250), #Seleccionamos al azar, 250 veces, entre las categorías Hombre y Mujer\n",
        "     \"Altura\": 165 + 30 * np.random.randn(250), #La altura sigue una normal N(165, 30)\n",
        "     \"Peso\": 65 + 30 * np.random.randn(250), #El peso sigue una normal N(65, 30)\n",
        "     \"Edad\": 30 + 15 * np.random.randn(250) #La edad sigue una normal N(30, 15)\n",
        "     }\n",
        "    )\n",
        "print(datos1.head())\n",
        "print(\"--------------------------------------------------\")\n",
        "#Creamos un segundo dataset con la misma estructura que el anterior, pero solo 50 observaciones:\n",
        "datos2 = pd.DataFrame(\n",
        "    {\n",
        "     \"ID\": range(251,301), #Los IDs serán los números entre 251 y 300\n",
        "     \"Sexo\": np.random.choice([\"Hombre\", \"Mujer\"], 50),\n",
        "     \"Altura\": 165 + 30 * np.random.randn(50),\n",
        "     \"Peso\": 65 + 30 * np.random.randn(50),\n",
        "     \"Edad\": 30 + 15 * np.random.randn(50) \n",
        "     }\n",
        "    )\n",
        "print(datos2.head())\n",
        "print(\"--------------------------------------------------\")\n",
        "#Creamos un tercer dataset con una columnas de IDs y columnas de Ingresos (continua) y Estatus laboral (Categórica), y 300 observaciones:\n",
        "datos3 = pd.DataFrame(\n",
        "    {\n",
        "     \"ID\": range(1,301), #Los IDs serán los números entre 1 y 300\n",
        "     \"Ingresos\":  15000 + 10000 * np.random.rand(300), #Los ingresos siguen una normal N(15000, 10000),\n",
        "     \"Estatus laboral\": np.random.choice([\"Parado\", \"Ocupado\"], 300) #Seleccionamos al azar, 300 veces, entre las categorías Parado y Ocupado\n",
        "     }\n",
        "    )\n",
        "print(datos3.head())"
      ],
      "execution_count": null,
      "outputs": [
        {
          "output_type": "stream",
          "name": "stdout",
          "text": [
            "   ID    Sexo      Altura       Peso       Edad\n",
            "0   1  Hombre  185.727733  58.319837  33.294234\n",
            "1   2   Mujer  174.083282  78.117063  27.869190\n",
            "2   3   Mujer  185.470747   3.295677  17.146505\n",
            "3   4  Hombre  181.956833  82.945672  51.068359\n",
            "4   5   Mujer  207.908197  63.128230  22.510396\n",
            "--------------------------------------------------\n",
            "    ID    Sexo      Altura       Peso       Edad\n",
            "0  251   Mujer  227.768733  54.818062  43.425252\n",
            "1  252  Hombre  133.942546  45.871465  45.990804\n",
            "2  253  Hombre  174.339675  65.841400  30.304534\n",
            "3  254   Mujer  157.363977  78.086351  53.396212\n",
            "4  255   Mujer  131.077085  11.533090  26.337838\n",
            "--------------------------------------------------\n",
            "   ID      Ingresos Estatus laboral\n",
            "0   1  18095.669454          Parado\n",
            "1   2  15273.714829         Ocupado\n",
            "2   3  18340.272891         Ocupado\n",
            "3   4  21814.721938         Ocupado\n",
            "4   5  22617.297292          Parado\n"
          ]
        }
      ]
    },
    {
      "cell_type": "markdown",
      "metadata": {
        "id": "qBaw3RU2GNx6"
      },
      "source": [
        "### Concatenación de datasets:\n",
        "Vamos a unir verticalmente (uno debajo del otro) los datasets *datos1* y *datos2*"
      ]
    },
    {
      "cell_type": "code",
      "metadata": {
        "colab": {
          "base_uri": "https://localhost:8080/"
        },
        "id": "BIYfAxQVGcvu",
        "outputId": "9cec4592-9b00-41f5-ece4-a42f892b7cf0"
      },
      "source": [
        "datos_1_2 = pd.concat([datos1, datos2], axis = 0) #axis = 0 porque estamos uniéndolos verticalmente (filas debajo de filas)\n",
        "len(datos_1_2) #Comprobamos que la longitud del nuevo dataset es de 300\n",
        "print(datos_1_2.head())"
      ],
      "execution_count": null,
      "outputs": [
        {
          "output_type": "stream",
          "name": "stdout",
          "text": [
            "   ID    Sexo      Altura       Peso       Edad\n",
            "0   1  Hombre  185.727733  58.319837  33.294234\n",
            "1   2   Mujer  174.083282  78.117063  27.869190\n",
            "2   3   Mujer  185.470747   3.295677  17.146505\n",
            "3   4  Hombre  181.956833  82.945672  51.068359\n",
            "4   5   Mujer  207.908197  63.128230  22.510396\n"
          ]
        }
      ]
    },
    {
      "cell_type": "markdown",
      "metadata": {
        "id": "BIYe5cyDHRMx"
      },
      "source": [
        "### Unión (join) de datasets:\n",
        "Vamos a unir el anterior dataset *datos_1_2* con el dataset *datos3* horizontalmente (columnas al lado de columnas), usando la columna de IDs como nexo de unión."
      ]
    },
    {
      "cell_type": "code",
      "metadata": {
        "colab": {
          "base_uri": "https://localhost:8080/"
        },
        "id": "928IXDhBHkKC",
        "outputId": "201d8914-6aa1-474d-85c6-61977bc9529c"
      },
      "source": [
        "datos_final = pd.merge(left = datos_1_2, right = datos3, left_on = \"ID\", right_on = \"ID\")\n",
        "len(datos_final)\n",
        "print(datos_final.head()) #Comprobamos que tenemos 300 observaciones y todas las columnas"
      ],
      "execution_count": null,
      "outputs": [
        {
          "output_type": "stream",
          "name": "stdout",
          "text": [
            "   ID    Sexo      Altura       Peso       Edad      Ingresos Estatus laboral\n",
            "0   1  Hombre  185.727733  58.319837  33.294234  18095.669454          Parado\n",
            "1   2   Mujer  174.083282  78.117063  27.869190  15273.714829         Ocupado\n",
            "2   3   Mujer  185.470747   3.295677  17.146505  18340.272891         Ocupado\n",
            "3   4  Hombre  181.956833  82.945672  51.068359  21814.721938         Ocupado\n",
            "4   5   Mujer  207.908197  63.128230  22.510396  22617.297292          Parado\n"
          ]
        }
      ]
    },
    {
      "cell_type": "markdown",
      "metadata": {
        "id": "C2dAFD6y1CXb"
      },
      "source": [
        "### Cambiar nombre de filas y columnas del dataframe:\n",
        "Como tenemos una columna de IDs identificativa de cada una de las 300 observaciones, vamos a cambiar el nombre de las filas (números del 0 al 299), por los valores de la columna *ID* (números del 1 al 300):"
      ]
    },
    {
      "cell_type": "code",
      "metadata": {
        "colab": {
          "base_uri": "https://localhost:8080/"
        },
        "id": "C_UuGEji1aEv",
        "outputId": "9dec120b-dcc8-4a4a-a4a3-73cb9222b15f"
      },
      "source": [
        "datos_final.index = datos_final[\"ID\"] #Renombramos el índice de las filas con los valores de la columna ID\n",
        "#Eliminamos la columna ID, ya que no nos hace falta:\n",
        "datos_final = datos_final.drop([\"ID\"], axis = 1)\n",
        "#Para eliminar filas también se debe utilizar la funcion drop(): entre corchetes ponemos las filas a eliminar y especificamos axis = 0\n",
        "#Cambiamos el nombre de la columna Ingresos por \"Ingresos mensuales\":\n",
        "datos_final = datos_final.rename(columns = {\"Ingresos\": \"Ingresos mensuales\"})\n",
        "print(datos_final.head())"
      ],
      "execution_count": null,
      "outputs": [
        {
          "output_type": "stream",
          "name": "stdout",
          "text": [
            "      Sexo      Altura  ...  Ingresos mensuales  Estatus laboral\n",
            "ID                      ...                                     \n",
            "1   Hombre  185.727733  ...        18095.669454           Parado\n",
            "2    Mujer  174.083282  ...        15273.714829          Ocupado\n",
            "3    Mujer  185.470747  ...        18340.272891          Ocupado\n",
            "4   Hombre  181.956833  ...        21814.721938          Ocupado\n",
            "5    Mujer  207.908197  ...        22617.297292           Parado\n",
            "\n",
            "[5 rows x 6 columns]\n"
          ]
        }
      ]
    },
    {
      "cell_type": "markdown",
      "metadata": {
        "id": "DR35pQyLwOc_"
      },
      "source": [
        "### Función describe()\n",
        "Con las función describe() podemos obtener los estadísticos descriptivos básicos de forma muy rápida.\n",
        "\n",
        "En el caso de las variables continuas nos da el recuento, la media, la mediana, la desviación típica, el máximo, el mínimo, los cuartiles y el tipo de dato.\n",
        "\n",
        "En el caso de las categóricas, nos da el recuento, el número de categorías, la moda y la frecuencia de la moda."
      ]
    },
    {
      "cell_type": "code",
      "metadata": {
        "colab": {
          "base_uri": "https://localhost:8080/"
        },
        "id": "syo1aMNoEE6x",
        "outputId": "20219b12-89ed-4c83-cc06-352200fc5d29"
      },
      "source": [
        "for i in datos_final.columns:\n",
        "  print(datos_final[i].describe())"
      ],
      "execution_count": null,
      "outputs": [
        {
          "output_type": "stream",
          "name": "stdout",
          "text": [
            "count       300\n",
            "unique        2\n",
            "top       Mujer\n",
            "freq        163\n",
            "Name: Sexo, dtype: object\n",
            "count    300.000000\n",
            "mean     163.695440\n",
            "std       30.327469\n",
            "min       77.359026\n",
            "25%      142.205044\n",
            "50%      163.740130\n",
            "75%      185.700385\n",
            "max      241.526719\n",
            "Name: Altura, dtype: float64\n",
            "count    300.000000\n",
            "mean      64.233054\n",
            "std       30.050969\n",
            "min       -7.752129\n",
            "25%       42.994083\n",
            "50%       63.681800\n",
            "75%       86.387175\n",
            "max      145.600979\n",
            "Name: Peso, dtype: float64\n",
            "count    300.000000\n",
            "mean      29.366473\n",
            "std       14.637074\n",
            "min       -8.911559\n",
            "25%       19.775875\n",
            "50%       30.512299\n",
            "75%       38.982829\n",
            "max       75.480454\n",
            "Name: Edad, dtype: float64\n",
            "count      300.000000\n",
            "mean     19776.474496\n",
            "std       2822.811845\n",
            "min      15027.682134\n",
            "25%      17402.160984\n",
            "50%      19765.024738\n",
            "75%      22386.375704\n",
            "max      24917.822457\n",
            "Name: Ingresos mensuales, dtype: float64\n",
            "count         300\n",
            "unique          2\n",
            "top       Ocupado\n",
            "freq          168\n",
            "Name: Estatus laboral, dtype: object\n"
          ]
        }
      ]
    },
    {
      "cell_type": "markdown",
      "metadata": {
        "id": "T_1PTGSk6uka"
      },
      "source": [
        "### Medidas de centralidad por grupos:"
      ]
    },
    {
      "cell_type": "code",
      "metadata": {
        "colab": {
          "base_uri": "https://localhost:8080/",
          "height": 174
        },
        "id": "K3zjBG3264Og",
        "outputId": "2db5824b-ee68-4358-c7ba-09ad713b482a"
      },
      "source": [
        "#Agrupamos los datos en función de las categorías, por ejemplo, de la variable Sexo\n",
        "#Y calculamos la media y mediana por sexo de las distintas variables continuas:\n",
        "datos_final.groupby([\"Sexo\"])[[\"Altura\", \"Peso\", \"Edad\", \"Ingresos mensuales\"]].aggregate([np.mean, np.median])\n",
        "#Para agrupar los datos en función de las categorías de una variable se utiliza la función groupby()\n",
        "#La función aggregate() permite indicar la realización de varios cálculos a la vez\n",
        "#Para calcular la moda debemos usar el paquete statistics (statistics.mode() o statistics.multimode()), pero no lo hemos hecho ya que, al ser datos aleatorios, no hay datos repetidos o éstos son mínimos"
      ],
      "execution_count": null,
      "outputs": [
        {
          "output_type": "execute_result",
          "data": {
            "text/html": [
              "<div>\n",
              "<style scoped>\n",
              "    .dataframe tbody tr th:only-of-type {\n",
              "        vertical-align: middle;\n",
              "    }\n",
              "\n",
              "    .dataframe tbody tr th {\n",
              "        vertical-align: top;\n",
              "    }\n",
              "\n",
              "    .dataframe thead tr th {\n",
              "        text-align: left;\n",
              "    }\n",
              "\n",
              "    .dataframe thead tr:last-of-type th {\n",
              "        text-align: right;\n",
              "    }\n",
              "</style>\n",
              "<table border=\"1\" class=\"dataframe\">\n",
              "  <thead>\n",
              "    <tr>\n",
              "      <th></th>\n",
              "      <th colspan=\"2\" halign=\"left\">Altura</th>\n",
              "      <th colspan=\"2\" halign=\"left\">Peso</th>\n",
              "      <th colspan=\"2\" halign=\"left\">Edad</th>\n",
              "      <th colspan=\"2\" halign=\"left\">Ingresos mensuales</th>\n",
              "    </tr>\n",
              "    <tr>\n",
              "      <th></th>\n",
              "      <th>mean</th>\n",
              "      <th>median</th>\n",
              "      <th>mean</th>\n",
              "      <th>median</th>\n",
              "      <th>mean</th>\n",
              "      <th>median</th>\n",
              "      <th>mean</th>\n",
              "      <th>median</th>\n",
              "    </tr>\n",
              "    <tr>\n",
              "      <th>Sexo</th>\n",
              "      <th></th>\n",
              "      <th></th>\n",
              "      <th></th>\n",
              "      <th></th>\n",
              "      <th></th>\n",
              "      <th></th>\n",
              "      <th></th>\n",
              "      <th></th>\n",
              "    </tr>\n",
              "  </thead>\n",
              "  <tbody>\n",
              "    <tr>\n",
              "      <th>Hombre</th>\n",
              "      <td>166.196455</td>\n",
              "      <td>167.468193</td>\n",
              "      <td>62.720178</td>\n",
              "      <td>59.928409</td>\n",
              "      <td>30.640963</td>\n",
              "      <td>32.292643</td>\n",
              "      <td>19584.241734</td>\n",
              "      <td>19570.939465</td>\n",
              "    </tr>\n",
              "    <tr>\n",
              "      <th>Mujer</th>\n",
              "      <td>161.593360</td>\n",
              "      <td>158.866212</td>\n",
              "      <td>65.504612</td>\n",
              "      <td>65.963626</td>\n",
              "      <td>28.295275</td>\n",
              "      <td>29.289455</td>\n",
              "      <td>19938.044363</td>\n",
              "      <td>20018.646068</td>\n",
              "    </tr>\n",
              "  </tbody>\n",
              "</table>\n",
              "</div>"
            ],
            "text/plain": [
              "            Altura              ... Ingresos mensuales              \n",
              "              mean      median  ...               mean        median\n",
              "Sexo                            ...                                 \n",
              "Hombre  166.196455  167.468193  ...       19584.241734  19570.939465\n",
              "Mujer   161.593360  158.866212  ...       19938.044363  20018.646068\n",
              "\n",
              "[2 rows x 8 columns]"
            ]
          },
          "metadata": {},
          "execution_count": 27
        }
      ]
    },
    {
      "cell_type": "markdown",
      "metadata": {
        "id": "tOJK_1kFCMQM"
      },
      "source": [
        "### Extracción de subconjunto de datos y medidas de dispersión de dicho subconjunto:\n"
      ]
    },
    {
      "cell_type": "code",
      "metadata": {
        "colab": {
          "base_uri": "https://localhost:8080/"
        },
        "id": "O3WlYynOCZXC",
        "outputId": "2a4f29ce-480f-4c58-fed3-26c275580c6d"
      },
      "source": [
        "#Utilizamos loc[] para la extracción de subconjuntos de datos:\n",
        "#Vamos a extraer las filas 25 a 125 , y las columnas Altura y Peso\n",
        "subconjunto = datos_final.loc[25:125,\"Altura\":\"Peso\"]\n",
        "#También podríamos hacer usar de iloc[] para la extracción del mismo subconjunto de datos. En este caso, se debe explicitar el índice (número) de las columnas (en este caso la 1 y la 2):\n",
        "subconjunto = datos_final.iloc[25:125,1:3] #Debemos poner hasta la 3, porque Python cuenta hasta la anterior de la 3\n",
        "print(subconjunto.tail())\n",
        "print(\"\\n\") #Para dejar un espacio en blanco con lo de abajo\n",
        "#Calculamos ahora las principales medidas de dispersión (rango, varianza y desviación típica):\n",
        "for i in subconjunto.columns:\n",
        "  print(\"El rango de la variable \" + i + \" es \" + str(round(subconjunto[i].max() - subconjunto[i].min(), 3))) #El resultado está redondeado a tres decimales\n",
        "  print(\"La varianza de la variable \" + i + \" es \" + str(round(statistics.variance(subconjunto[i]), 3)))\n",
        "  print(\"La desviación típica de la variable \" + i + \" es \" + str(round(statistics.stdev(subconjunto[i]), 3)))\n",
        "  print(\"\\n\")\n",
        "#En realidad, estamos calculando la cuasivarianza y cuasidesviación típica, ya que asumimos que los datos proceden de una muestra, no de una población entera\n",
        "#Si quisiéramos hacer uso de la varianza y de la desviación típica poblacionales usamos las funciones pvariance() y pstdev() respectivamente"
      ],
      "execution_count": null,
      "outputs": [
        {
          "output_type": "stream",
          "name": "stdout",
          "text": [
            "         Altura        Peso\n",
            "ID                         \n",
            "121  231.114021   25.214365\n",
            "122  159.200312   69.612457\n",
            "123  174.953245   19.978118\n",
            "124  179.702948   57.049546\n",
            "125  189.313006  118.555077\n",
            "\n",
            "\n",
            "El rango de la variable Altura es 153.628\n",
            "La varianza de la variable Altura es 1012.704\n",
            "La desviación típica de la variable Altura es 31.823\n",
            "\n",
            "\n",
            "El rango de la variable Peso es 134.214\n",
            "La varianza de la variable Peso es 808.539\n",
            "La desviación típica de la variable Peso es 28.435\n",
            "\n",
            "\n"
          ]
        }
      ]
    },
    {
      "cell_type": "markdown",
      "metadata": {
        "id": "ZWtE_Gk3Irql"
      },
      "source": [
        "### Histograma:"
      ]
    },
    {
      "cell_type": "code",
      "metadata": {
        "colab": {
          "base_uri": "https://localhost:8080/",
          "height": 448
        },
        "id": "jMmFVeQQIxsk",
        "outputId": "cf07199d-dfaa-425c-9499-9d2302aca567"
      },
      "source": [
        "#Vamos a graficar el histograma para la altura y el peso, usando el subconjunto de datos anterior:\n",
        "%matplotlib inline\n",
        "k = int(np.ceil(1+np.log2(len(subconjunto)))) #Regla de Sturges para determinar el número óptimo de barras del histograma: k = 1+ log_2(n). n es el número de observaciones\n",
        "figure, [ax1, ax2] = plt.subplots(1, 2, figsize=(8, 6))\n",
        "figure.suptitle('Histogramas de la Altura (Rojo) y el Peso (Azul)')\n",
        "ax1.hist(subconjunto[\"Altura\"], bins = k, orientation = \"vertical\", color = \"red\")\n",
        "ax2.hist(subconjunto[\"Peso\"], bins = k, orientation = \"vertical\", color = \"blue\")\n",
        "ax1.set(xlabel=\"Altura en cm\",ylabel=\"Frecuencia\")\n",
        "ax2.set(xlabel=\"Peso en kg\",ylabel=\"Frecuencia\")"
      ],
      "execution_count": null,
      "outputs": [
        {
          "output_type": "execute_result",
          "data": {
            "text/plain": [
              "[Text(0, 0.5, 'Frecuencia'), Text(0.5, 0, 'Peso en kg')]"
            ]
          },
          "metadata": {},
          "execution_count": 81
        },
        {
          "output_type": "display_data",
          "data": {
            "image/png": "[encoded data removed]",
            "text/plain": [
              "<Figure size 576x432 with 2 Axes>"
            ]
          },
          "metadata": {
            "needs_background": "light"
          }
        }
      ]
    },
    {
      "cell_type": "markdown",
      "metadata": {
        "id": "laLiZD3zD9LH"
      },
      "source": [
        "### Correlación entre variables y diagrama de dispersión (*scatter plot*):"
      ]
    },
    {
      "cell_type": "code",
      "metadata": {
        "colab": {
          "base_uri": "https://localhost:8080/",
          "height": 326
        },
        "id": "A-TZ_szgGQzV",
        "outputId": "5249ecc4-0e08-4046-9a7f-13e4b79f7b90"
      },
      "source": [
        "#Calculamos la correlación entre la Altura y el Peso del subconjunto de datos\n",
        "subconjunto.corr() #Vemos que la correlación es muy baja y negativa (algo que no tiene sentido, pero que está producido porque los números son aleatorios)\n",
        "#Comprobamos con un diagrama de dispersión que no se aprecia recta de regresión ninguna:\n",
        "figure, ax = plt.subplots(1, 1)\n",
        "figure.suptitle('Diagrama de dispersión')\n",
        "ax.scatter(x = subconjunto[\"Altura\"], y = subconjunto[\"Peso\"])\n",
        "ax.set(xlabel=\"Altura en cm\",ylabel=\"Peso en kg\")"
      ],
      "execution_count": null,
      "outputs": [
        {
          "output_type": "execute_result",
          "data": {
            "text/plain": [
              "[Text(0, 0.5, 'Peso en kg'), Text(0.5, 0, 'Altura en cm')]"
            ]
          },
          "metadata": {},
          "execution_count": 85
        },
        {
          "output_type": "display_data",
          "data": {
            "image/png": "[encoded data removed]",
            "text/plain": [
              "<Figure size 432x288 with 1 Axes>"
            ]
          },
          "metadata": {
            "needs_background": "light"
          }
        }
      ]
    },
    {
      "cell_type": "markdown",
      "metadata": {
        "id": "NNgYxWsVN_OT"
      },
      "source": [
        "### Filtrado de datos\n",
        "Otra forma de extraer subconjuntos de datos consiste en filtrar los mismos en función de una serie de condiciones. Veamos algunos ejemplos:"
      ]
    },
    {
      "cell_type": "code",
      "metadata": {
        "colab": {
          "base_uri": "https://localhost:8080/"
        },
        "id": "XSokk9ytOId9",
        "outputId": "0c9c45d8-2026-48fa-9e30-90c2c38886c0"
      },
      "source": [
        "#Extraemos todas las observaciones con unos ingresos mensuales inferiores a 3000:\n",
        "filtrado1 = datos_final[datos_final[\"Ingresos mensuales\"] < 3000]\n",
        "#Extraemos las observaciones con una altura superior a 180 cm y un peso superior a 80 kg:\n",
        "filtrado2 = datos_final[(datos_final[\"Altura\"] > 180)  & (datos_final[\"Peso\"] > 80)]\n",
        "#Extraemos las observaciones cuya altura sea inferior a 100 cm o su peso inferio a 45 kg:\n",
        "filtrado3 = datos_final[(datos_final[\"Altura\"] < 100)  | (datos_final[\"Peso\"] < 45)]\n",
        "#Extraemos las observaciones cuya altura en cm sea inferior a su peso en kg:\n",
        "filtrado4 = datos_final[datos_final[\"Altura\"] < datos_final[\"Peso\"]]\n",
        "#Vemos las primeras observaciones para cada uno de estos nuevos dataframes:\n",
        "print(\"filtrado1\", \"\\n\", filtrado1.head(), \"\\n\", \"filtrado2\", \"\\n\", filtrado2.head(), \"\\n\", \"filtrado3\", \"\\n\",  filtrado3.head(), \"\\n\", \"filtrado4\", \"\\n\",  filtrado4.head())\n",
        "#El primer dataframe está vacío ya que no hay ninguna observación con unos ingresos mensuales inferiores a 3000"
      ],
      "execution_count": null,
      "outputs": [
        {
          "output_type": "stream",
          "name": "stdout",
          "text": [
            "filtrado1 \n",
            " Empty DataFrame\n",
            "Columns: [Sexo, Altura, Peso, Edad, Ingresos mensuales, Estatus laboral]\n",
            "Index: [] \n",
            " filtrado2 \n",
            "       Sexo      Altura  ...  Ingresos mensuales  Estatus laboral\n",
            "ID                      ...                                     \n",
            "4   Hombre  181.956833  ...        21814.721938          Ocupado\n",
            "11   Mujer  185.889469  ...        23621.030148           Parado\n",
            "16  Hombre  202.313747  ...        20125.773069          Ocupado\n",
            "19  Hombre  186.913889  ...        19292.195507          Ocupado\n",
            "26   Mujer  186.075680  ...        17425.254537           Parado\n",
            "\n",
            "[5 rows x 6 columns] \n",
            " filtrado3 \n",
            "       Sexo      Altura  ...  Ingresos mensuales  Estatus laboral\n",
            "ID                      ...                                     \n",
            "3    Mujer  185.470747  ...        18340.272891          Ocupado\n",
            "6   Hombre  216.819149  ...        21641.779924          Ocupado\n",
            "8   Hombre  194.644670  ...        16604.678145          Ocupado\n",
            "9    Mujer  157.971773  ...        20467.188028           Parado\n",
            "13   Mujer  172.109123  ...        21573.405392           Parado\n",
            "\n",
            "[5 rows x 6 columns] \n",
            " filtrado4 \n",
            "        Sexo      Altura  ...  Ingresos mensuales  Estatus laboral\n",
            "ID                       ...                                     \n",
            "87    Mujer  107.795611  ...        20414.069825           Parado\n",
            "135  Hombre  111.411721  ...        16304.123844           Parado\n",
            "280  Hombre  142.802275  ...        19939.688947          Ocupado\n",
            "\n",
            "[3 rows x 6 columns]\n"
          ]
        }
      ]
    },
    {
      "cell_type": "markdown",
      "metadata": {
        "id": "Lwrbs6fBUeKp"
      },
      "source": [
        "### Diagrama de caja y bigotes (*box-plot*):\n",
        "Este tipo de gráfico resumen mucha información en poco espacio, siendo muy útil para la detección de outliers."
      ]
    },
    {
      "cell_type": "code",
      "metadata": {
        "colab": {
          "base_uri": "https://localhost:8080/",
          "height": 676
        },
        "id": "s3zahZlGNnta",
        "outputId": "46a74ada-686c-40e4-caf9-16e565bd89ad"
      },
      "source": [
        "#Diagrama de caja y bigotes:\n",
        "print(datos_final.tail())\n",
        "datos_final[\"Ingresos mensuales\"][300] = 7000 #Introducimos un outlier cambiando los ingresos mensuales de la última observación (la 300) por 7000\n",
        "print(datos_final.tail())\n",
        "%matplotlib inline\n",
        "figure, ax = plt.subplots(1,1)\n",
        "figure.suptitle('Box-plot Ingresos mensuales')\n",
        "ax.boxplot(datos_final[\"Ingresos mensuales\"],showmeans=True)\n",
        "ax.set_xticklabels([]) #Para quitar el tick y el 1 que viene pr defecto en el eje x\n",
        "ax.xaxis.set_ticks_position('none') #Para quitar el tick y el 1 que viene pr defecto en el eje x\n",
        "#La media es el triángulo verde y la mediana, la línea naranja\n",
        "#El círculito de abajo es el outlier"
      ],
      "execution_count": null,
      "outputs": [
        {
          "output_type": "stream",
          "name": "stdout",
          "text": [
            "       Sexo      Altura  ...  Ingresos mensuales  Estatus laboral\n",
            "ID                       ...                                     \n",
            "296  Hombre  239.892890  ...        19486.229331          Ocupado\n",
            "297   Mujer  200.695104  ...        19841.975043           Parado\n",
            "298  Hombre   99.387916  ...        15027.682134          Ocupado\n",
            "299  Hombre   77.359026  ...        17158.010506           Parado\n",
            "300  Hombre  194.105047  ...         7000.000000          Ocupado\n",
            "\n",
            "[5 rows x 6 columns]\n",
            "       Sexo      Altura  ...  Ingresos mensuales  Estatus laboral\n",
            "ID                       ...                                     \n",
            "296  Hombre  239.892890  ...        19486.229331          Ocupado\n",
            "297   Mujer  200.695104  ...        19841.975043           Parado\n",
            "298  Hombre   99.387916  ...        15027.682134          Ocupado\n",
            "299  Hombre   77.359026  ...        17158.010506           Parado\n",
            "300  Hombre  194.105047  ...         7000.000000          Ocupado\n",
            "\n",
            "[5 rows x 6 columns]\n"
          ]
        },
        {
          "output_type": "stream",
          "name": "stderr",
          "text": [
            "/usr/local/lib/python3.7/dist-packages/ipykernel_launcher.py:3: SettingWithCopyWarning: \n",
            "A value is trying to be set on a copy of a slice from a DataFrame\n",
            "\n",
            "See the caveats in the documentation: https://pandas.pydata.org/pandas-docs/stable/user_guide/indexing.html#returning-a-view-versus-a-copy\n",
            "  This is separate from the ipykernel package so we can avoid doing imports until\n"
          ]
        },
        {
          "output_type": "display_data",
          "data": {
            "image/png": "[encoded data removed]",
            "text/plain": [
              "<Figure size 432x288 with 1 Axes>"
            ]
          },
          "metadata": {
            "needs_background": "light"
          }
        }
      ]
    }
  ]
}