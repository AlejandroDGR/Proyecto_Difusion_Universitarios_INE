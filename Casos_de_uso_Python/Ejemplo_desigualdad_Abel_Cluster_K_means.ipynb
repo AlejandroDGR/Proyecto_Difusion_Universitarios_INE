{
  "nbformat": 4,
  "nbformat_minor": 0,
  "metadata": {
    "colab": {
      "name": "Ejemplo desigualdad Abel Cluster K-means.ipynb",
      "provenance": [],
      "collapsed_sections": [],
      "toc_visible": true
    },
    "kernelspec": {
      "name": "python3",
      "display_name": "Python 3"
    },
    "language_info": {
      "name": "python"
    }
  },
  "cells": [
    {
      "cell_type": "markdown",
      "metadata": {
        "id": "VVyfYuEGqmKl"
      },
      "source": [
        "# **Análisis Cluster**\n",
        "El análisis cluster, o análisis de conglomerados, es una técnica estadística multivariante, cuyo objetivo es agrupar los elementos o variables análizadas en distintos grupos (clusters) en función de la homogeneidad existente entre ellas. \n",
        "\n",
        "El análisis cluster engloba distintos métodos, en nuestro ejemplo nos centraremos en el método K-means. El método **K-means** agrupa los elementos o variables analizadas en un número de clusters ya predeterminado. \n",
        "\n",
        "Para llevar a cabo nuestro ejemplo, escogeremos el dataset **desigualdad_ccaa**, elaborado a partir de los datos publicados por el INE. "
      ]
    },
    {
      "cell_type": "markdown",
      "metadata": {
        "id": "H4r5Xn8Uqr_q"
      },
      "source": [
        "## **K-means**"
      ]
    },
    {
      "cell_type": "markdown",
      "metadata": {
        "id": "8QYL6dyO-N9a"
      },
      "source": [
        "Cargamos las librerias que vamos a utilizar en el modelo."
      ]
    },
    {
      "cell_type": "code",
      "metadata": {
        "id": "wGbaox2FVcne"
      },
      "source": [
        "# Preparación de los datos \n",
        "import numpy as np\n",
        "import pandas as pd\n",
        "# Modelado \n",
        "from sklearn.datasets import make_blobs\n",
        "from sklearn.cluster import KMeans\n",
        "from sklearn.preprocessing import scale\n",
        "# Visualización\n",
        "import matplotlib.pyplot as plt\n"
      ],
      "execution_count": null,
      "outputs": []
    },
    {
      "cell_type": "markdown",
      "metadata": {
        "id": "9x9FnWQs49Nj"
      },
      "source": [
        "Subimos a Colab el archivo que vamos a utilizar, en nuestro caso es **desigualdad_ccaa.** "
      ]
    },
    {
      "cell_type": "code",
      "metadata": {
        "colab": {
          "resources": {
            "http://localhost:8080/nbextensions/google.colab/files.js": {
              "data": "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",
              "ok": true,
              "headers": [
                [
                  "content-type",
                  "application/javascript"
                ]
              ],
              "status": 200,
              "status_text": ""
            }
          },
          "base_uri": "https://localhost:8080/",
          "height": 90
        },
        "id": "lMPHCRZo5hi-",
        "outputId": "86576c67-54cb-4bad-dc6c-770ed2598f4c"
      },
      "source": [
        "from google.colab import files\n",
        "uploaded = files.upload()"
      ],
      "execution_count": null,
      "outputs": [
        {
          "output_type": "display_data",
          "data": {
            "text/html": [
              "\n",
              "     <input type=\"file\" id=\"files-aea44624-f09d-4479-bfff-d6e9aaa912c0\" name=\"files[]\" multiple disabled\n",
              "        style=\"border:none\" />\n",
              "     <output id=\"result-aea44624-f09d-4479-bfff-d6e9aaa912c0\">\n",
              "      Upload widget is only available when the cell has been executed in the\n",
              "      current browser session. Please rerun this cell to enable.\n",
              "      </output>\n",
              "      <script src=\"/nbextensions/google.colab/files.js\"></script> "
            ],
            "text/plain": [
              "<IPython.core.display.HTML object>"
            ]
          },
          "metadata": {}
        },
        {
          "output_type": "stream",
          "text": [
            "Saving desigualdad_ccaa.xlsx to desigualdad_ccaa.xlsx\n"
          ],
          "name": "stdout"
        }
      ]
    },
    {
      "cell_type": "markdown",
      "metadata": {
        "id": "P92SFqff583_"
      },
      "source": [
        "Visualizamos los datos del archivo que acabamos de cargar."
      ]
    },
    {
      "cell_type": "code",
      "metadata": {
        "colab": {
          "base_uri": "https://localhost:8080/",
          "height": 277
        },
        "id": "h_rhKLsM6Qd2",
        "outputId": "a600dbcd-3b9a-4c98-f25b-407484d748aa"
      },
      "source": [
        "datos=pd.read_excel('desigualdad_ccaa.xlsx')\n",
        "datos.head()"
      ],
      "execution_count": null,
      "outputs": [
        {
          "output_type": "execute_result",
          "data": {
            "text/html": [
              "<div>\n",
              "<style scoped>\n",
              "    .dataframe tbody tr th:only-of-type {\n",
              "        vertical-align: middle;\n",
              "    }\n",
              "\n",
              "    .dataframe tbody tr th {\n",
              "        vertical-align: top;\n",
              "    }\n",
              "\n",
              "    .dataframe thead th {\n",
              "        text-align: right;\n",
              "    }\n",
              "</style>\n",
              "<table border=\"1\" class=\"dataframe\">\n",
              "  <thead>\n",
              "    <tr style=\"text-align: right;\">\n",
              "      <th></th>\n",
              "      <th>CCAA</th>\n",
              "      <th>PIBpc</th>\n",
              "      <th>Rmedper</th>\n",
              "      <th>Rmedhog</th>\n",
              "      <th>Riespob</th>\n",
              "      <th>Evidanac</th>\n",
              "      <th>Tmortinf</th>\n",
              "      <th>Salmal</th>\n",
              "      <th>Analf</th>\n",
              "      <th>Salmed</th>\n",
              "      <th>Salmedmuj</th>\n",
              "      <th>Salmedhom</th>\n",
              "      <th>Paro</th>\n",
              "      <th>Parojuv</th>\n",
              "      <th>Parold</th>\n",
              "      <th>Ocuptc</th>\n",
              "      <th>Condhog</th>\n",
              "      <th>Gastomedper</th>\n",
              "      <th>Gastomedhog</th>\n",
              "      <th>Seg</th>\n",
              "      <th>Mencond</th>\n",
              "      <th>Pobsed</th>\n",
              "      <th>Satisviv</th>\n",
              "      <th>Satiseco</th>\n",
              "      <th>Satistrab</th>\n",
              "      <th>Probviv</th>\n",
              "      <th>Emp</th>\n",
              "      <th>Empind</th>\n",
              "      <th>Empcons</th>\n",
              "      <th>Empcotrahos</th>\n",
              "      <th>Empserv</th>\n",
              "      <th>Pobactdisc</th>\n",
              "      <th>Pobactnodisc</th>\n",
              "      <th>Vivord</th>\n",
              "      <th>Vivint</th>\n",
              "      <th>Vivfijo</th>\n",
              "      <th>Vivmovil</th>\n",
              "      <th>Niñomovil</th>\n",
              "      <th>Niñordena</th>\n",
              "      <th>Niñoint</th>\n",
              "      <th>Sobremay</th>\n",
              "      <th>Obemay</th>\n",
              "      <th>Sobremen</th>\n",
              "      <th>Obemen</th>\n",
              "      <th>Poblfum</th>\n",
              "      <th>Poblbeb</th>\n",
              "      <th>Empord</th>\n",
              "      <th>Empint</th>\n",
              "      <th>Empweb</th>\n",
              "      <th>Empsoc</th>\n",
              "    </tr>\n",
              "  </thead>\n",
              "  <tbody>\n",
              "    <tr>\n",
              "      <th>0</th>\n",
              "      <td>Andalucía</td>\n",
              "      <td>19633</td>\n",
              "      <td>9160</td>\n",
              "      <td>23826</td>\n",
              "      <td>31.3</td>\n",
              "      <td>82.22</td>\n",
              "      <td>3.17</td>\n",
              "      <td>7.75</td>\n",
              "      <td>2.6</td>\n",
              "      <td>21805.92</td>\n",
              "      <td>18672.11</td>\n",
              "      <td>24712.69</td>\n",
              "      <td>21.19</td>\n",
              "      <td>41.69</td>\n",
              "      <td>32.5</td>\n",
              "      <td>84.6</td>\n",
              "      <td>1.37</td>\n",
              "      <td>10602.70</td>\n",
              "      <td>27532.66</td>\n",
              "      <td>5.5</td>\n",
              "      <td>0.17</td>\n",
              "      <td>39.47</td>\n",
              "      <td>7.3</td>\n",
              "      <td>5.6</td>\n",
              "      <td>7.0</td>\n",
              "      <td>71.0</td>\n",
              "      <td>531045</td>\n",
              "      <td>28395</td>\n",
              "      <td>57938</td>\n",
              "      <td>212817</td>\n",
              "      <td>231895</td>\n",
              "      <td>30.2</td>\n",
              "      <td>73.9</td>\n",
              "      <td>76.8</td>\n",
              "      <td>94.7</td>\n",
              "      <td>61.8</td>\n",
              "      <td>99.3</td>\n",
              "      <td>67.6</td>\n",
              "      <td>85.5</td>\n",
              "      <td>91.3</td>\n",
              "      <td>37.5</td>\n",
              "      <td>21.0</td>\n",
              "      <td>20.9</td>\n",
              "      <td>12.5</td>\n",
              "      <td>22.7</td>\n",
              "      <td>16.2</td>\n",
              "      <td>99.2</td>\n",
              "      <td>98.2</td>\n",
              "      <td>71.5</td>\n",
              "      <td>54.3</td>\n",
              "    </tr>\n",
              "    <tr>\n",
              "      <th>1</th>\n",
              "      <td>Aragón</td>\n",
              "      <td>28727</td>\n",
              "      <td>12300</td>\n",
              "      <td>29672</td>\n",
              "      <td>17.9</td>\n",
              "      <td>83.90</td>\n",
              "      <td>2.14</td>\n",
              "      <td>6.54</td>\n",
              "      <td>0.7</td>\n",
              "      <td>23531.83</td>\n",
              "      <td>20074.25</td>\n",
              "      <td>26640.59</td>\n",
              "      <td>10.03</td>\n",
              "      <td>27.35</td>\n",
              "      <td>28.4</td>\n",
              "      <td>86.2</td>\n",
              "      <td>1.24</td>\n",
              "      <td>12775.48</td>\n",
              "      <td>30716.04</td>\n",
              "      <td>3.8</td>\n",
              "      <td>0.13</td>\n",
              "      <td>37.32</td>\n",
              "      <td>7.4</td>\n",
              "      <td>6.0</td>\n",
              "      <td>7.0</td>\n",
              "      <td>81.5</td>\n",
              "      <td>90682</td>\n",
              "      <td>6532</td>\n",
              "      <td>11787</td>\n",
              "      <td>31636</td>\n",
              "      <td>40727</td>\n",
              "      <td>40.0</td>\n",
              "      <td>79.9</td>\n",
              "      <td>85.0</td>\n",
              "      <td>96.3</td>\n",
              "      <td>80.0</td>\n",
              "      <td>99.7</td>\n",
              "      <td>71.2</td>\n",
              "      <td>96.1</td>\n",
              "      <td>93.5</td>\n",
              "      <td>36.8</td>\n",
              "      <td>15.7</td>\n",
              "      <td>18.2</td>\n",
              "      <td>2.5</td>\n",
              "      <td>24.1</td>\n",
              "      <td>19.0</td>\n",
              "      <td>99.2</td>\n",
              "      <td>98.3</td>\n",
              "      <td>85.4</td>\n",
              "      <td>64.7</td>\n",
              "    </tr>\n",
              "    <tr>\n",
              "      <th>2</th>\n",
              "      <td>Asturias, Principado de</td>\n",
              "      <td>23299</td>\n",
              "      <td>12523</td>\n",
              "      <td>27897</td>\n",
              "      <td>20.7</td>\n",
              "      <td>82.83</td>\n",
              "      <td>2.66</td>\n",
              "      <td>6.53</td>\n",
              "      <td>0.5</td>\n",
              "      <td>23914.61</td>\n",
              "      <td>19744.94</td>\n",
              "      <td>27912.91</td>\n",
              "      <td>14.19</td>\n",
              "      <td>28.70</td>\n",
              "      <td>41.5</td>\n",
              "      <td>86.1</td>\n",
              "      <td>0.35</td>\n",
              "      <td>12317.84</td>\n",
              "      <td>27367.02</td>\n",
              "      <td>1.8</td>\n",
              "      <td>0.21</td>\n",
              "      <td>33.92</td>\n",
              "      <td>7.5</td>\n",
              "      <td>6.3</td>\n",
              "      <td>6.9</td>\n",
              "      <td>69.9</td>\n",
              "      <td>68433</td>\n",
              "      <td>3495</td>\n",
              "      <td>8133</td>\n",
              "      <td>26459</td>\n",
              "      <td>30346</td>\n",
              "      <td>31.6</td>\n",
              "      <td>74.0</td>\n",
              "      <td>79.2</td>\n",
              "      <td>93.4</td>\n",
              "      <td>69.8</td>\n",
              "      <td>99.0</td>\n",
              "      <td>65.7</td>\n",
              "      <td>94.9</td>\n",
              "      <td>95.3</td>\n",
              "      <td>37.4</td>\n",
              "      <td>21.7</td>\n",
              "      <td>18.2</td>\n",
              "      <td>7.9</td>\n",
              "      <td>23.8</td>\n",
              "      <td>18.3</td>\n",
              "      <td>98.9</td>\n",
              "      <td>98.1</td>\n",
              "      <td>81.6</td>\n",
              "      <td>61.3</td>\n",
              "    </tr>\n",
              "    <tr>\n",
              "      <th>3</th>\n",
              "      <td>Balears, Illes</td>\n",
              "      <td>28213</td>\n",
              "      <td>12410</td>\n",
              "      <td>32179</td>\n",
              "      <td>12.0</td>\n",
              "      <td>83.71</td>\n",
              "      <td>3.25</td>\n",
              "      <td>4.99</td>\n",
              "      <td>1.5</td>\n",
              "      <td>22800.87</td>\n",
              "      <td>21085.74</td>\n",
              "      <td>24437.58</td>\n",
              "      <td>11.74</td>\n",
              "      <td>29.18</td>\n",
              "      <td>16.7</td>\n",
              "      <td>87.3</td>\n",
              "      <td>1.07</td>\n",
              "      <td>12765.75</td>\n",
              "      <td>33125.73</td>\n",
              "      <td>3.6</td>\n",
              "      <td>0.24</td>\n",
              "      <td>39.58</td>\n",
              "      <td>7.7</td>\n",
              "      <td>5.9</td>\n",
              "      <td>7.3</td>\n",
              "      <td>65.4</td>\n",
              "      <td>100022</td>\n",
              "      <td>4834</td>\n",
              "      <td>17291</td>\n",
              "      <td>31172</td>\n",
              "      <td>46725</td>\n",
              "      <td>38.5</td>\n",
              "      <td>79.7</td>\n",
              "      <td>85.2</td>\n",
              "      <td>95.6</td>\n",
              "      <td>75.4</td>\n",
              "      <td>98.9</td>\n",
              "      <td>68.7</td>\n",
              "      <td>95.1</td>\n",
              "      <td>98.5</td>\n",
              "      <td>31.1</td>\n",
              "      <td>15.5</td>\n",
              "      <td>23.0</td>\n",
              "      <td>10.0</td>\n",
              "      <td>23.1</td>\n",
              "      <td>16.7</td>\n",
              "      <td>99.3</td>\n",
              "      <td>97.6</td>\n",
              "      <td>81.4</td>\n",
              "      <td>73.0</td>\n",
              "    </tr>\n",
              "    <tr>\n",
              "      <th>4</th>\n",
              "      <td>Canarias</td>\n",
              "      <td>21244</td>\n",
              "      <td>9487</td>\n",
              "      <td>24565</td>\n",
              "      <td>28.5</td>\n",
              "      <td>82.79</td>\n",
              "      <td>2.72</td>\n",
              "      <td>7.55</td>\n",
              "      <td>1.6</td>\n",
              "      <td>20763.48</td>\n",
              "      <td>19051.01</td>\n",
              "      <td>22333.63</td>\n",
              "      <td>20.49</td>\n",
              "      <td>42.18</td>\n",
              "      <td>34.0</td>\n",
              "      <td>87.1</td>\n",
              "      <td>1.34</td>\n",
              "      <td>9851.50</td>\n",
              "      <td>25389.65</td>\n",
              "      <td>6.4</td>\n",
              "      <td>0.26</td>\n",
              "      <td>41.49</td>\n",
              "      <td>7.1</td>\n",
              "      <td>5.6</td>\n",
              "      <td>7.1</td>\n",
              "      <td>76.1</td>\n",
              "      <td>152756</td>\n",
              "      <td>5677</td>\n",
              "      <td>16951</td>\n",
              "      <td>58466</td>\n",
              "      <td>71662</td>\n",
              "      <td>25.8</td>\n",
              "      <td>75.8</td>\n",
              "      <td>80.5</td>\n",
              "      <td>96.2</td>\n",
              "      <td>81.8</td>\n",
              "      <td>99.5</td>\n",
              "      <td>65.4</td>\n",
              "      <td>91.4</td>\n",
              "      <td>90.4</td>\n",
              "      <td>37.2</td>\n",
              "      <td>19.3</td>\n",
              "      <td>25.2</td>\n",
              "      <td>10.4</td>\n",
              "      <td>22.3</td>\n",
              "      <td>6.6</td>\n",
              "      <td>98.3</td>\n",
              "      <td>97.8</td>\n",
              "      <td>67.8</td>\n",
              "      <td>62.8</td>\n",
              "    </tr>\n",
              "  </tbody>\n",
              "</table>\n",
              "</div>"
            ],
            "text/plain": [
              "                          CCAA  PIBpc  Rmedper  ...  Empint  Empweb  Empsoc\n",
              "0                    Andalucía  19633     9160  ...    98.2    71.5    54.3\n",
              "1                       Aragón  28727    12300  ...    98.3    85.4    64.7\n",
              "2      Asturias, Principado de  23299    12523  ...    98.1    81.6    61.3\n",
              "3               Balears, Illes  28213    12410  ...    97.6    81.4    73.0\n",
              "4                     Canarias  21244     9487  ...    97.8    67.8    62.8\n",
              "\n",
              "[5 rows x 50 columns]"
            ]
          },
          "metadata": {},
          "execution_count": 3
        }
      ]
    },
    {
      "cell_type": "markdown",
      "metadata": {
        "id": "9ufwrbBqGHHL"
      },
      "source": [
        "Creamos las diferentes variables que vamos a utilizar. En este caso, en la variable columnas, seleccionaremos las que vamos a analizar, en nuestro caso, el salario medio anual de mujeres y hombres. Después, la lista que acabamos de crear, la convertimos en un DataFrame (resultado). Además, también tenemos nuestra serie con las comunidades autónomas."
      ]
    },
    {
      "cell_type": "code",
      "metadata": {
        "id": "N-saumddF4m1"
      },
      "source": [
        "columnas = [\"Salmedmuj\", \"Salmedhom\"]\n",
        "resultado = datos[columnas]\n",
        "comunidades = datos[\"CCAA\"]\n"
      ],
      "execution_count": null,
      "outputs": []
    },
    {
      "cell_type": "markdown",
      "metadata": {
        "id": "gOzurAV0HTh0"
      },
      "source": [
        "Ahora, creamos los **cluster**, en nuestro caso vamos a escoger 4 cluster. En este caso utilizamos fit() para ajustar el modelo a los datos que hemos cargado y el método predict() para realizar predicciones. "
      ]
    },
    {
      "cell_type": "code",
      "metadata": {
        "id": "7tSuqq2lJnMF"
      },
      "source": [
        "resultado_escalado = scale(resultado)\n",
        "modelo = KMeans(n_clusters=3)\n",
        "modelo.fit(resultado_escalado)\n",
        "grupos = modelo.predict(resultado_escalado)"
      ],
      "execution_count": null,
      "outputs": []
    },
    {
      "cell_type": "markdown",
      "metadata": {
        "id": "_4i97pqHLg4z"
      },
      "source": [
        "Una vez creados los cluster, los relacionamos con nuestra variable comunidades que contiene las Comunidades Autonomas. "
      ]
    },
    {
      "cell_type": "code",
      "metadata": {
        "colab": {
          "base_uri": "https://localhost:8080/",
          "height": 581
        },
        "id": "7j1R-RL3LhNK",
        "outputId": "add3f18f-718f-4ec7-8ef6-18e1bafa3bea"
      },
      "source": [
        "clusters=pd.concat([comunidades,pd.DataFrame(grupos)],axis=1)\n",
        "clusters.rename(columns={\"CCAA\":\"Comunidades Autónomas\",0:\"Cluster\"},inplace=True)\n",
        "clusters"
      ],
      "execution_count": null,
      "outputs": [
        {
          "output_type": "execute_result",
          "data": {
            "text/html": [
              "<div>\n",
              "<style scoped>\n",
              "    .dataframe tbody tr th:only-of-type {\n",
              "        vertical-align: middle;\n",
              "    }\n",
              "\n",
              "    .dataframe tbody tr th {\n",
              "        vertical-align: top;\n",
              "    }\n",
              "\n",
              "    .dataframe thead th {\n",
              "        text-align: right;\n",
              "    }\n",
              "</style>\n",
              "<table border=\"1\" class=\"dataframe\">\n",
              "  <thead>\n",
              "    <tr style=\"text-align: right;\">\n",
              "      <th></th>\n",
              "      <th>Comunidades Autónomas</th>\n",
              "      <th>Cluster</th>\n",
              "    </tr>\n",
              "  </thead>\n",
              "  <tbody>\n",
              "    <tr>\n",
              "      <th>0</th>\n",
              "      <td>Andalucía</td>\n",
              "      <td>0</td>\n",
              "    </tr>\n",
              "    <tr>\n",
              "      <th>1</th>\n",
              "      <td>Aragón</td>\n",
              "      <td>2</td>\n",
              "    </tr>\n",
              "    <tr>\n",
              "      <th>2</th>\n",
              "      <td>Asturias, Principado de</td>\n",
              "      <td>2</td>\n",
              "    </tr>\n",
              "    <tr>\n",
              "      <th>3</th>\n",
              "      <td>Balears, Illes</td>\n",
              "      <td>2</td>\n",
              "    </tr>\n",
              "    <tr>\n",
              "      <th>4</th>\n",
              "      <td>Canarias</td>\n",
              "      <td>0</td>\n",
              "    </tr>\n",
              "    <tr>\n",
              "      <th>5</th>\n",
              "      <td>Cantabria</td>\n",
              "      <td>2</td>\n",
              "    </tr>\n",
              "    <tr>\n",
              "      <th>6</th>\n",
              "      <td>Castilla y León</td>\n",
              "      <td>0</td>\n",
              "    </tr>\n",
              "    <tr>\n",
              "      <th>7</th>\n",
              "      <td>Castilla - La Mancha</td>\n",
              "      <td>0</td>\n",
              "    </tr>\n",
              "    <tr>\n",
              "      <th>8</th>\n",
              "      <td>Cataluña</td>\n",
              "      <td>1</td>\n",
              "    </tr>\n",
              "    <tr>\n",
              "      <th>9</th>\n",
              "      <td>Comunitat Valenciana</td>\n",
              "      <td>0</td>\n",
              "    </tr>\n",
              "    <tr>\n",
              "      <th>10</th>\n",
              "      <td>Extremadura</td>\n",
              "      <td>0</td>\n",
              "    </tr>\n",
              "    <tr>\n",
              "      <th>11</th>\n",
              "      <td>Galicia</td>\n",
              "      <td>0</td>\n",
              "    </tr>\n",
              "    <tr>\n",
              "      <th>12</th>\n",
              "      <td>Madrid, Comunidad de</td>\n",
              "      <td>1</td>\n",
              "    </tr>\n",
              "    <tr>\n",
              "      <th>13</th>\n",
              "      <td>Murcia, Región de</td>\n",
              "      <td>0</td>\n",
              "    </tr>\n",
              "    <tr>\n",
              "      <th>14</th>\n",
              "      <td>Navarra, Comunidad Foral de</td>\n",
              "      <td>1</td>\n",
              "    </tr>\n",
              "    <tr>\n",
              "      <th>15</th>\n",
              "      <td>País Vasco</td>\n",
              "      <td>1</td>\n",
              "    </tr>\n",
              "    <tr>\n",
              "      <th>16</th>\n",
              "      <td>Rioja, La</td>\n",
              "      <td>2</td>\n",
              "    </tr>\n",
              "  </tbody>\n",
              "</table>\n",
              "</div>"
            ],
            "text/plain": [
              "              Comunidades Autónomas  Cluster\n",
              "0                         Andalucía        0\n",
              "1                            Aragón        2\n",
              "2           Asturias, Principado de        2\n",
              "3                    Balears, Illes        2\n",
              "4                          Canarias        0\n",
              "5                         Cantabria        2\n",
              "6                   Castilla y León        0\n",
              "7              Castilla - La Mancha        0\n",
              "8                          Cataluña        1\n",
              "9              Comunitat Valenciana        0\n",
              "10                      Extremadura        0\n",
              "11                          Galicia        0\n",
              "12             Madrid, Comunidad de        1\n",
              "13                Murcia, Región de        0\n",
              "14      Navarra, Comunidad Foral de        1\n",
              "15                       País Vasco        1\n",
              "16                        Rioja, La        2"
            ]
          },
          "metadata": {},
          "execution_count": 20
        }
      ]
    },
    {
      "cell_type": "markdown",
      "metadata": {
        "id": "AHd36b_PMe6k"
      },
      "source": [
        "Para comprobar cuál es el número de cluster adecuado para desarrollar nuestro modelo, utilizamos el **método Elbow**, el cual nos dirá el valor a partir del cual añadir más clusters apenas consigue mejoría en el modelo. En este caso vemos como el número adecuado de cluster es 4. "
      ]
    },
    {
      "cell_type": "code",
      "metadata": {
        "colab": {
          "base_uri": "https://localhost:8080/",
          "height": 287
        },
        "id": "kivFib2cNST1",
        "outputId": "2fc1c8c0-3a60-4343-c81e-ac24e7c6f809"
      },
      "source": [
        "range_clusters = range(1, 11)\n",
        "inercia = []\n",
        "\n",
        "for i in range_clusters:\n",
        "    modelo = KMeans(\n",
        "                        n_clusters   = i, \n",
        "                        n_init       = 20, \n",
        "                        random_state = 50\n",
        "                     )\n",
        "    modelo.fit(resultado)\n",
        "    inercia.append(modelo.inertia_)\n",
        "\n",
        "fig, ax = plt.subplots(1, 1, figsize=(6, 3.84))\n",
        "ax.plot(range_clusters, inercia, marker='o')\n",
        "ax.set_title(\"Evolución de la varianza intra-cluster total\")\n",
        "ax.set_xlabel('Número clusters')\n",
        "ax.set_ylabel('Inercia');"
      ],
      "execution_count": null,
      "outputs": [
        {
          "output_type": "display_data",
          "data": {
            "image/png": "[encoded data removed]",
            "text/plain": [
              "<Figure size 432x276.48 with 1 Axes>"
            ]
          },
          "metadata": {
            "needs_background": "light"
          }
        }
      ]
    },
    {
      "cell_type": "markdown",
      "metadata": {
        "id": "_FtxhTcANSf3"
      },
      "source": [
        "Para poder generar el modelo, tenemos que correr de nuevo las variables generadas."
      ]
    },
    {
      "cell_type": "code",
      "metadata": {
        "id": "o6-0SVvB01zf"
      },
      "source": [
        "resultado_escalado = scale(resultado)\n",
        "modelo = KMeans(n_clusters=3)\n",
        "modelo.fit(resultado_escalado)\n",
        "grupos = modelo.predict(resultado_escalado)"
      ],
      "execution_count": null,
      "outputs": []
    },
    {
      "cell_type": "markdown",
      "metadata": {
        "id": "1w_WbtK-Ws_n"
      },
      "source": [
        "Vamos a visualizar nuestro modelo, para ello, definimos la función que vamos a llevar a cabo, en este caso situación. En nuestro gráfico de dispersión tendremos dos parametros, x e y, que serán los datos escogidos, c que es el color que le vamos a dar a los datos y s el tamaño de la forma en la que se presenta el dato (marker). \n",
        "\n",
        "Además, introducimos unos centroides que se situaran en el centro de cada cluster. "
      ]
    },
    {
      "cell_type": "code",
      "metadata": {
        "colab": {
          "base_uri": "https://localhost:8080/",
          "height": 483
        },
        "id": "0O08X3u3gzDv",
        "outputId": "4b1b30c7-9250-4fd2-f17e-3e5927359a09"
      },
      "source": [
        "def situacion (x, y, z):\n",
        "  fig, ax = plt.subplots()\n",
        "  for i in np.unique(grupos):\n",
        "    ax.scatter(\n",
        "        x = resultado_escalado[grupos == i, 0],\n",
        "        y = resultado_escalado[grupos == i, 1], \n",
        "        c = plt.rcParams['axes.prop_cycle'].by_key()['color'][i],\n",
        "        s=100,\n",
        "        marker    = 'o',\n",
        "        edgecolor = 'black', \n",
        "        label= f'Cluster {i}'\n",
        "    )\n",
        "    for i in range(17):       \n",
        "       ax.text(x[i]+0.2,y[i]+0.1, z[i], color = 'black', ha = 'center', va = 'center')\n",
        "    ax.scatter(\n",
        "    x = modelo.cluster_centers_[:,0],\n",
        "    y = modelo.cluster_centers_[:,1], \n",
        "    c = 'black',\n",
        "    s = 200,\n",
        "    marker = '*',\n",
        "    label  = 'centroides'\n",
        "  )\n",
        "  fig.set_figheight(8)\n",
        "  fig.set_figwidth(10)\n",
        "  fig.show()\n",
        "ax.set_title('Clusters generados por Kmeans')\n",
        "situacion(resultado_escalado[:,0],resultado_escalado[:,1],comunidades)"
      ],
      "execution_count": null,
      "outputs": [
        {
          "output_type": "display_data",
          "data": {
            "image/png": "[encoded data removed]",
            "text/plain": [
              "<Figure size 720x576 with 1 Axes>"
            ]
          },
          "metadata": {
            "needs_background": "light"
          }
        }
      ]
    },
    {
      "cell_type": "markdown",
      "metadata": {
        "id": "Fq3bH9_Sc5Yn"
      },
      "source": [
        ""
      ]
    }
  ]
}