{
  "nbformat": 4,
  "nbformat_minor": 0,
  "metadata": {
    "colab": {
      "name": "Causalidad.ipynb",
      "provenance": [],
      "collapsed_sections": []
    },
    "kernelspec": {
      "name": "python3",
      "display_name": "Python 3"
    },
    "language_info": {
      "name": "python"
    }
  },
  "cells": [
    {
      "cell_type": "markdown",
      "metadata": {
        "id": "VZQ3l1iWS1zp"
      },
      "source": [
        "#Correlación y causalidad"
      ]
    },
    {
      "cell_type": "markdown",
      "source": [
        "La **correlación** examina la relación entre dos variables. Sin embargo, observar que dos variables se mueven conjuntamente no significa necesariamente que una variable sea la causa de la otra. Por eso solemos decir que \"la **correlación** no implica **causalidad**\"."
      ],
      "metadata": {
        "id": "AHWiNbAaeUCZ"
      }
    },
    {
      "cell_type": "markdown",
      "source": [
        "Aquí mostramos un ejemplo bastante llamativo con datos del INE que servirá para ejemplificar estos conceptos."
      ],
      "metadata": {
        "id": "lSOr7iZzCcRx"
      }
    },
    {
      "cell_type": "markdown",
      "metadata": {
        "id": "oYrURjap4g_i"
      },
      "source": [
        "##Librerías"
      ]
    },
    {
      "cell_type": "code",
      "metadata": {
        "id": "UKdFlKZj1fsf"
      },
      "source": [
        "#cargamos las librerías que nos van a hacer falta\n",
        "import numpy as np\n",
        "import pandas as pd\n",
        "import matplotlib.pyplot as plt\n",
        "import seaborn as sns"
      ],
      "execution_count": 1,
      "outputs": []
    },
    {
      "cell_type": "markdown",
      "metadata": {
        "id": "K5MKidhS4m2a"
      },
      "source": [
        "##Datos"
      ]
    },
    {
      "cell_type": "markdown",
      "source": [
        "Empleamos un dataset con distintas variables y de dintinta temática para ver si hay correlación entre ellas."
      ],
      "metadata": {
        "id": "ZzntjQD1DBdS"
      }
    },
    {
      "cell_type": "code",
      "metadata": {
        "colab": {
          "resources": {
            "http://localhost:8080/nbextensions/google.colab/files.js": {
              "data": "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",
              "ok": true,
              "headers": [
                [
                  "content-type",
                  "application/javascript"
                ]
              ],
              "status": 200,
              "status_text": ""
            }
          },
          "base_uri": "https://localhost:8080/",
          "height": 229
        },
        "id": "StkEU3rV1kYX",
        "outputId": "38477f5b-5bae-4a9d-c420-5793cd547cda"
      },
      "source": [
        "#Cargar el dataset\n",
        "from google.colab import files\n",
        "uploaded = files.upload()\n",
        "ccaa = 'causalidad.xlsx'\n",
        "data = pd.read_excel(ccaa, sheet_name='Datos', header = 0)\n",
        "\n",
        "print (data.head(6))"
      ],
      "execution_count": 2,
      "outputs": [
        {
          "output_type": "display_data",
          "data": {
            "text/html": [
              "\n",
              "     <input type=\"file\" id=\"files-52a61408-bfa4-431e-87c0-6bde065049a5\" name=\"files[]\" multiple disabled\n",
              "        style=\"border:none\" />\n",
              "     <output id=\"result-52a61408-bfa4-431e-87c0-6bde065049a5\">\n",
              "      Upload widget is only available when the cell has been executed in the\n",
              "      current browser session. Please rerun this cell to enable.\n",
              "      </output>\n",
              "      <script src=\"/nbextensions/google.colab/files.js\"></script> "
            ],
            "text/plain": [
              "<IPython.core.display.HTML object>"
            ]
          },
          "metadata": {}
        },
        {
          "output_type": "stream",
          "name": "stdout",
          "text": [
            "Saving causalidad.xlsx to causalidad.xlsx\n",
            "        ccaa    libros  altas_hospitalarias  ...  gasto_vino  nacimientos  divorcios\n",
            "0  andalucia  0.000821             0.084342  ...    0.028465     0.008248   0.002030\n",
            "1     aragon  0.001181             0.113732  ...    0.035979     0.007310   0.001547\n",
            "2   asturias  0.000943             0.113822  ...    0.049680     0.005037   0.002048\n",
            "3   baleares  0.000753             0.116687  ...    0.057559     0.008422   0.002129\n",
            "4   canarias  0.000364             0.086515  ...    0.033147     0.006565   0.002055\n",
            "5  cantabria  0.000922             0.099663  ...    0.046443     0.006104   0.002027\n",
            "\n",
            "[6 rows x 12 columns]\n"
          ]
        }
      ]
    },
    {
      "cell_type": "code",
      "source": [
        "#indexamos las CCAA\n",
        "datos = data.set_index('ccaa')\n",
        "datos.head()"
      ],
      "metadata": {
        "colab": {
          "base_uri": "https://localhost:8080/",
          "height": 302
        },
        "id": "6ns1OHddA0ax",
        "outputId": "f7635929-941a-4d86-927c-6676716974e0"
      },
      "execution_count": 3,
      "outputs": [
        {
          "output_type": "execute_result",
          "data": {
            "text/html": [
              "\n",
              "  <div id=\"df-893b4494-0117-49d0-a24f-8b698f83270f\">\n",
              "    <div class=\"colab-df-container\">\n",
              "      <div>\n",
              "<style scoped>\n",
              "    .dataframe tbody tr th:only-of-type {\n",
              "        vertical-align: middle;\n",
              "    }\n",
              "\n",
              "    .dataframe tbody tr th {\n",
              "        vertical-align: top;\n",
              "    }\n",
              "\n",
              "    .dataframe thead th {\n",
              "        text-align: right;\n",
              "    }\n",
              "</style>\n",
              "<table border=\"1\" class=\"dataframe\">\n",
              "  <thead>\n",
              "    <tr style=\"text-align: right;\">\n",
              "      <th></th>\n",
              "      <th>libros</th>\n",
              "      <th>altas_hospitalarias</th>\n",
              "      <th>matrimonios</th>\n",
              "      <th>gasto_chocolate</th>\n",
              "      <th>gasto_cerveza</th>\n",
              "      <th>condenados</th>\n",
              "      <th>gasto_restaurante</th>\n",
              "      <th>gasto_automoviles</th>\n",
              "      <th>gasto_vino</th>\n",
              "      <th>nacimientos</th>\n",
              "      <th>divorcios</th>\n",
              "    </tr>\n",
              "    <tr>\n",
              "      <th>ccaa</th>\n",
              "      <th></th>\n",
              "      <th></th>\n",
              "      <th></th>\n",
              "      <th></th>\n",
              "      <th></th>\n",
              "      <th></th>\n",
              "      <th></th>\n",
              "      <th></th>\n",
              "      <th></th>\n",
              "      <th></th>\n",
              "      <th></th>\n",
              "    </tr>\n",
              "  </thead>\n",
              "  <tbody>\n",
              "    <tr>\n",
              "      <th>andalucia</th>\n",
              "      <td>0.000821</td>\n",
              "      <td>0.084342</td>\n",
              "      <td>0.003559</td>\n",
              "      <td>0.060799</td>\n",
              "      <td>0.037068</td>\n",
              "      <td>0.006518</td>\n",
              "      <td>1.029601</td>\n",
              "      <td>0.479079</td>\n",
              "      <td>0.028465</td>\n",
              "      <td>0.008248</td>\n",
              "      <td>0.002030</td>\n",
              "    </tr>\n",
              "    <tr>\n",
              "      <th>aragon</th>\n",
              "      <td>0.001181</td>\n",
              "      <td>0.113732</td>\n",
              "      <td>0.002951</td>\n",
              "      <td>0.070738</td>\n",
              "      <td>0.030821</td>\n",
              "      <td>0.005110</td>\n",
              "      <td>1.346879</td>\n",
              "      <td>0.455055</td>\n",
              "      <td>0.035979</td>\n",
              "      <td>0.007310</td>\n",
              "      <td>0.001547</td>\n",
              "    </tr>\n",
              "    <tr>\n",
              "      <th>asturias</th>\n",
              "      <td>0.000943</td>\n",
              "      <td>0.113822</td>\n",
              "      <td>0.003182</td>\n",
              "      <td>0.085968</td>\n",
              "      <td>0.024933</td>\n",
              "      <td>0.006064</td>\n",
              "      <td>1.216873</td>\n",
              "      <td>0.488539</td>\n",
              "      <td>0.049680</td>\n",
              "      <td>0.005037</td>\n",
              "      <td>0.002048</td>\n",
              "    </tr>\n",
              "    <tr>\n",
              "      <th>baleares</th>\n",
              "      <td>0.000753</td>\n",
              "      <td>0.116687</td>\n",
              "      <td>0.004245</td>\n",
              "      <td>0.077483</td>\n",
              "      <td>0.048186</td>\n",
              "      <td>0.007252</td>\n",
              "      <td>1.249908</td>\n",
              "      <td>0.592273</td>\n",
              "      <td>0.057559</td>\n",
              "      <td>0.008422</td>\n",
              "      <td>0.002129</td>\n",
              "    </tr>\n",
              "    <tr>\n",
              "      <th>canarias</th>\n",
              "      <td>0.000364</td>\n",
              "      <td>0.086515</td>\n",
              "      <td>0.003431</td>\n",
              "      <td>0.077495</td>\n",
              "      <td>0.030958</td>\n",
              "      <td>0.007189</td>\n",
              "      <td>0.808606</td>\n",
              "      <td>0.510542</td>\n",
              "      <td>0.033147</td>\n",
              "      <td>0.006565</td>\n",
              "      <td>0.002055</td>\n",
              "    </tr>\n",
              "  </tbody>\n",
              "</table>\n",
              "</div>\n",
              "      <button class=\"colab-df-convert\" onclick=\"convertToInteractive('df-893b4494-0117-49d0-a24f-8b698f83270f')\"\n",
              "              title=\"Convert this dataframe to an interactive table.\"\n",
              "              style=\"display:none;\">\n",
              "        \n",
              "  <svg xmlns=\"http://www.w3.org/2000/svg\" height=\"24px\"viewBox=\"0 0 24 24\"\n",
              "       width=\"24px\">\n",
              "    <path d=\"M0 0h24v24H0V0z\" fill=\"none\"/>\n",
              "    <path d=\"M18.56 5.44l.94 2.06.94-2.06 2.06-.94-2.06-.94-.94-2.06-.94 2.06-2.06.94zm-11 1L8.5 8.5l.94-2.06 2.06-.94-2.06-.94L8.5 2.5l-.94 2.06-2.06.94zm10 10l.94 2.06.94-2.06 2.06-.94-2.06-.94-.94-2.06-.94 2.06-2.06.94z\"/><path d=\"M17.41 7.96l-1.37-1.37c-.4-.4-.92-.59-1.43-.59-.52 0-1.04.2-1.43.59L10.3 9.45l-7.72 7.72c-.78.78-.78 2.05 0 2.83L4 21.41c.39.39.9.59 1.41.59.51 0 1.02-.2 1.41-.59l7.78-7.78 2.81-2.81c.8-.78.8-2.07 0-2.86zM5.41 20L4 18.59l7.72-7.72 1.47 1.35L5.41 20z\"/>\n",
              "  </svg>\n",
              "      </button>\n",
              "      \n",
              "  <style>\n",
              "    .colab-df-container {\n",
              "      display:flex;\n",
              "      flex-wrap:wrap;\n",
              "      gap: 12px;\n",
              "    }\n",
              "\n",
              "    .colab-df-convert {\n",
              "      background-color: #E8F0FE;\n",
              "      border: none;\n",
              "      border-radius: 50%;\n",
              "      cursor: pointer;\n",
              "      display: none;\n",
              "      fill: #1967D2;\n",
              "      height: 32px;\n",
              "      padding: 0 0 0 0;\n",
              "      width: 32px;\n",
              "    }\n",
              "\n",
              "    .colab-df-convert:hover {\n",
              "      background-color: #E2EBFA;\n",
              "      box-shadow: 0px 1px 2px rgba(60, 64, 67, 0.3), 0px 1px 3px 1px rgba(60, 64, 67, 0.15);\n",
              "      fill: #174EA6;\n",
              "    }\n",
              "\n",
              "    [theme=dark] .colab-df-convert {\n",
              "      background-color: #3B4455;\n",
              "      fill: #D2E3FC;\n",
              "    }\n",
              "\n",
              "    [theme=dark] .colab-df-convert:hover {\n",
              "      background-color: #434B5C;\n",
              "      box-shadow: 0px 1px 3px 1px rgba(0, 0, 0, 0.15);\n",
              "      filter: drop-shadow(0px 1px 2px rgba(0, 0, 0, 0.3));\n",
              "      fill: #FFFFFF;\n",
              "    }\n",
              "  </style>\n",
              "\n",
              "      <script>\n",
              "        const buttonEl =\n",
              "          document.querySelector('#df-893b4494-0117-49d0-a24f-8b698f83270f button.colab-df-convert');\n",
              "        buttonEl.style.display =\n",
              "          google.colab.kernel.accessAllowed ? 'block' : 'none';\n",
              "\n",
              "        async function convertToInteractive(key) {\n",
              "          const element = document.querySelector('#df-893b4494-0117-49d0-a24f-8b698f83270f');\n",
              "          const dataTable =\n",
              "            await google.colab.kernel.invokeFunction('convertToInteractive',\n",
              "                                                     [key], {});\n",
              "          if (!dataTable) return;\n",
              "\n",
              "          const docLinkHtml = 'Like what you see? Visit the ' +\n",
              "            '<a target=\"_blank\" href=https://colab.research.google.com/notebooks/data_table.ipynb>data table notebook</a>'\n",
              "            + ' to learn more about interactive tables.';\n",
              "          element.innerHTML = '';\n",
              "          dataTable['output_type'] = 'display_data';\n",
              "          await google.colab.output.renderOutput(dataTable, element);\n",
              "          const docLink = document.createElement('div');\n",
              "          docLink.innerHTML = docLinkHtml;\n",
              "          element.appendChild(docLink);\n",
              "        }\n",
              "      </script>\n",
              "    </div>\n",
              "  </div>\n",
              "  "
            ],
            "text/plain": [
              "             libros  altas_hospitalarias  ...  nacimientos  divorcios\n",
              "ccaa                                      ...                        \n",
              "andalucia  0.000821             0.084342  ...     0.008248   0.002030\n",
              "aragon     0.001181             0.113732  ...     0.007310   0.001547\n",
              "asturias   0.000943             0.113822  ...     0.005037   0.002048\n",
              "baleares   0.000753             0.116687  ...     0.008422   0.002129\n",
              "canarias   0.000364             0.086515  ...     0.006565   0.002055\n",
              "\n",
              "[5 rows x 11 columns]"
            ]
          },
          "metadata": {},
          "execution_count": 3
        }
      ]
    },
    {
      "cell_type": "markdown",
      "metadata": {
        "id": "WQPjDNJg4ucH"
      },
      "source": [
        "##Visualización correlación entre variables"
      ]
    },
    {
      "cell_type": "markdown",
      "source": [
        "Una vez obtenidos los datos pasamos a ver la posible correlación entre las distintas variables que componen el dataset"
      ],
      "metadata": {
        "id": "aEi21nzlE-QI"
      }
    },
    {
      "cell_type": "code",
      "metadata": {
        "colab": {
          "base_uri": "https://localhost:8080/",
          "height": 458
        },
        "id": "NrEvigb-8J6M",
        "outputId": "6f1beecf-ba44-4d54-8589-5eb9a0b58c8b"
      },
      "source": [
        "#Creación de la matriz de correlación\n",
        "corr_matr = datos.corr()\n",
        "display(corr_matr)"
      ],
      "execution_count": 4,
      "outputs": [
        {
          "output_type": "display_data",
          "data": {
            "text/html": [
              "\n",
              "  <div id=\"df-d7304e2a-3197-43c8-ae18-52d38e2e9591\">\n",
              "    <div class=\"colab-df-container\">\n",
              "      <div>\n",
              "<style scoped>\n",
              "    .dataframe tbody tr th:only-of-type {\n",
              "        vertical-align: middle;\n",
              "    }\n",
              "\n",
              "    .dataframe tbody tr th {\n",
              "        vertical-align: top;\n",
              "    }\n",
              "\n",
              "    .dataframe thead th {\n",
              "        text-align: right;\n",
              "    }\n",
              "</style>\n",
              "<table border=\"1\" class=\"dataframe\">\n",
              "  <thead>\n",
              "    <tr style=\"text-align: right;\">\n",
              "      <th></th>\n",
              "      <th>libros</th>\n",
              "      <th>altas_hospitalarias</th>\n",
              "      <th>matrimonios</th>\n",
              "      <th>gasto_chocolate</th>\n",
              "      <th>gasto_cerveza</th>\n",
              "      <th>condenados</th>\n",
              "      <th>gasto_restaurante</th>\n",
              "      <th>gasto_automoviles</th>\n",
              "      <th>gasto_vino</th>\n",
              "      <th>nacimientos</th>\n",
              "      <th>divorcios</th>\n",
              "    </tr>\n",
              "  </thead>\n",
              "  <tbody>\n",
              "    <tr>\n",
              "      <th>libros</th>\n",
              "      <td>1.000000</td>\n",
              "      <td>0.386677</td>\n",
              "      <td>0.051359</td>\n",
              "      <td>0.171023</td>\n",
              "      <td>0.090658</td>\n",
              "      <td>-0.078537</td>\n",
              "      <td>0.520452</td>\n",
              "      <td>0.063427</td>\n",
              "      <td>0.329029</td>\n",
              "      <td>0.286193</td>\n",
              "      <td>0.059209</td>\n",
              "    </tr>\n",
              "    <tr>\n",
              "      <th>altas_hospitalarias</th>\n",
              "      <td>0.386677</td>\n",
              "      <td>1.000000</td>\n",
              "      <td>-0.013870</td>\n",
              "      <td>0.387990</td>\n",
              "      <td>-0.129955</td>\n",
              "      <td>-0.094823</td>\n",
              "      <td>0.498431</td>\n",
              "      <td>0.284025</td>\n",
              "      <td>0.632435</td>\n",
              "      <td>-0.089601</td>\n",
              "      <td>-0.141796</td>\n",
              "    </tr>\n",
              "    <tr>\n",
              "      <th>matrimonios</th>\n",
              "      <td>0.051359</td>\n",
              "      <td>-0.013870</td>\n",
              "      <td>1.000000</td>\n",
              "      <td>0.045735</td>\n",
              "      <td>0.616347</td>\n",
              "      <td>0.626882</td>\n",
              "      <td>-0.054952</td>\n",
              "      <td>0.349601</td>\n",
              "      <td>0.311964</td>\n",
              "      <td>0.382051</td>\n",
              "      <td>0.613402</td>\n",
              "    </tr>\n",
              "    <tr>\n",
              "      <th>gasto_chocolate</th>\n",
              "      <td>0.171023</td>\n",
              "      <td>0.387990</td>\n",
              "      <td>0.045735</td>\n",
              "      <td>1.000000</td>\n",
              "      <td>-0.185820</td>\n",
              "      <td>0.295196</td>\n",
              "      <td>0.456733</td>\n",
              "      <td>0.633725</td>\n",
              "      <td>0.741026</td>\n",
              "      <td>-0.229911</td>\n",
              "      <td>0.263128</td>\n",
              "    </tr>\n",
              "    <tr>\n",
              "      <th>gasto_cerveza</th>\n",
              "      <td>0.090658</td>\n",
              "      <td>-0.129955</td>\n",
              "      <td>0.616347</td>\n",
              "      <td>-0.185820</td>\n",
              "      <td>1.000000</td>\n",
              "      <td>0.474477</td>\n",
              "      <td>-0.000051</td>\n",
              "      <td>0.022296</td>\n",
              "      <td>-0.048180</td>\n",
              "      <td>0.809555</td>\n",
              "      <td>0.230688</td>\n",
              "    </tr>\n",
              "    <tr>\n",
              "      <th>condenados</th>\n",
              "      <td>-0.078537</td>\n",
              "      <td>-0.094823</td>\n",
              "      <td>0.626882</td>\n",
              "      <td>0.295196</td>\n",
              "      <td>0.474477</td>\n",
              "      <td>1.000000</td>\n",
              "      <td>-0.049548</td>\n",
              "      <td>0.528422</td>\n",
              "      <td>0.296763</td>\n",
              "      <td>0.268405</td>\n",
              "      <td>0.781370</td>\n",
              "    </tr>\n",
              "    <tr>\n",
              "      <th>gasto_restaurante</th>\n",
              "      <td>0.520452</td>\n",
              "      <td>0.498431</td>\n",
              "      <td>-0.054952</td>\n",
              "      <td>0.456733</td>\n",
              "      <td>-0.000051</td>\n",
              "      <td>-0.049548</td>\n",
              "      <td>1.000000</td>\n",
              "      <td>0.249803</td>\n",
              "      <td>0.514239</td>\n",
              "      <td>0.232884</td>\n",
              "      <td>-0.106225</td>\n",
              "    </tr>\n",
              "    <tr>\n",
              "      <th>gasto_automoviles</th>\n",
              "      <td>0.063427</td>\n",
              "      <td>0.284025</td>\n",
              "      <td>0.349601</td>\n",
              "      <td>0.633725</td>\n",
              "      <td>0.022296</td>\n",
              "      <td>0.528422</td>\n",
              "      <td>0.249803</td>\n",
              "      <td>1.000000</td>\n",
              "      <td>0.604290</td>\n",
              "      <td>0.094185</td>\n",
              "      <td>0.580939</td>\n",
              "    </tr>\n",
              "    <tr>\n",
              "      <th>gasto_vino</th>\n",
              "      <td>0.329029</td>\n",
              "      <td>0.632435</td>\n",
              "      <td>0.311964</td>\n",
              "      <td>0.741026</td>\n",
              "      <td>-0.048180</td>\n",
              "      <td>0.296763</td>\n",
              "      <td>0.514239</td>\n",
              "      <td>0.604290</td>\n",
              "      <td>1.000000</td>\n",
              "      <td>-0.151590</td>\n",
              "      <td>0.383794</td>\n",
              "    </tr>\n",
              "    <tr>\n",
              "      <th>nacimientos</th>\n",
              "      <td>0.286193</td>\n",
              "      <td>-0.089601</td>\n",
              "      <td>0.382051</td>\n",
              "      <td>-0.229911</td>\n",
              "      <td>0.809555</td>\n",
              "      <td>0.268405</td>\n",
              "      <td>0.232884</td>\n",
              "      <td>0.094185</td>\n",
              "      <td>-0.151590</td>\n",
              "      <td>1.000000</td>\n",
              "      <td>0.035456</td>\n",
              "    </tr>\n",
              "    <tr>\n",
              "      <th>divorcios</th>\n",
              "      <td>0.059209</td>\n",
              "      <td>-0.141796</td>\n",
              "      <td>0.613402</td>\n",
              "      <td>0.263128</td>\n",
              "      <td>0.230688</td>\n",
              "      <td>0.781370</td>\n",
              "      <td>-0.106225</td>\n",
              "      <td>0.580939</td>\n",
              "      <td>0.383794</td>\n",
              "      <td>0.035456</td>\n",
              "      <td>1.000000</td>\n",
              "    </tr>\n",
              "  </tbody>\n",
              "</table>\n",
              "</div>\n",
              "      <button class=\"colab-df-convert\" onclick=\"convertToInteractive('df-d7304e2a-3197-43c8-ae18-52d38e2e9591')\"\n",
              "              title=\"Convert this dataframe to an interactive table.\"\n",
              "              style=\"display:none;\">\n",
              "        \n",
              "  <svg xmlns=\"http://www.w3.org/2000/svg\" height=\"24px\"viewBox=\"0 0 24 24\"\n",
              "       width=\"24px\">\n",
              "    <path d=\"M0 0h24v24H0V0z\" fill=\"none\"/>\n",
              "    <path d=\"M18.56 5.44l.94 2.06.94-2.06 2.06-.94-2.06-.94-.94-2.06-.94 2.06-2.06.94zm-11 1L8.5 8.5l.94-2.06 2.06-.94-2.06-.94L8.5 2.5l-.94 2.06-2.06.94zm10 10l.94 2.06.94-2.06 2.06-.94-2.06-.94-.94-2.06-.94 2.06-2.06.94z\"/><path d=\"M17.41 7.96l-1.37-1.37c-.4-.4-.92-.59-1.43-.59-.52 0-1.04.2-1.43.59L10.3 9.45l-7.72 7.72c-.78.78-.78 2.05 0 2.83L4 21.41c.39.39.9.59 1.41.59.51 0 1.02-.2 1.41-.59l7.78-7.78 2.81-2.81c.8-.78.8-2.07 0-2.86zM5.41 20L4 18.59l7.72-7.72 1.47 1.35L5.41 20z\"/>\n",
              "  </svg>\n",
              "      </button>\n",
              "      \n",
              "  <style>\n",
              "    .colab-df-container {\n",
              "      display:flex;\n",
              "      flex-wrap:wrap;\n",
              "      gap: 12px;\n",
              "    }\n",
              "\n",
              "    .colab-df-convert {\n",
              "      background-color: #E8F0FE;\n",
              "      border: none;\n",
              "      border-radius: 50%;\n",
              "      cursor: pointer;\n",
              "      display: none;\n",
              "      fill: #1967D2;\n",
              "      height: 32px;\n",
              "      padding: 0 0 0 0;\n",
              "      width: 32px;\n",
              "    }\n",
              "\n",
              "    .colab-df-convert:hover {\n",
              "      background-color: #E2EBFA;\n",
              "      box-shadow: 0px 1px 2px rgba(60, 64, 67, 0.3), 0px 1px 3px 1px rgba(60, 64, 67, 0.15);\n",
              "      fill: #174EA6;\n",
              "    }\n",
              "\n",
              "    [theme=dark] .colab-df-convert {\n",
              "      background-color: #3B4455;\n",
              "      fill: #D2E3FC;\n",
              "    }\n",
              "\n",
              "    [theme=dark] .colab-df-convert:hover {\n",
              "      background-color: #434B5C;\n",
              "      box-shadow: 0px 1px 3px 1px rgba(0, 0, 0, 0.15);\n",
              "      filter: drop-shadow(0px 1px 2px rgba(0, 0, 0, 0.3));\n",
              "      fill: #FFFFFF;\n",
              "    }\n",
              "  </style>\n",
              "\n",
              "      <script>\n",
              "        const buttonEl =\n",
              "          document.querySelector('#df-d7304e2a-3197-43c8-ae18-52d38e2e9591 button.colab-df-convert');\n",
              "        buttonEl.style.display =\n",
              "          google.colab.kernel.accessAllowed ? 'block' : 'none';\n",
              "\n",
              "        async function convertToInteractive(key) {\n",
              "          const element = document.querySelector('#df-d7304e2a-3197-43c8-ae18-52d38e2e9591');\n",
              "          const dataTable =\n",
              "            await google.colab.kernel.invokeFunction('convertToInteractive',\n",
              "                                                     [key], {});\n",
              "          if (!dataTable) return;\n",
              "\n",
              "          const docLinkHtml = 'Like what you see? Visit the ' +\n",
              "            '<a target=\"_blank\" href=https://colab.research.google.com/notebooks/data_table.ipynb>data table notebook</a>'\n",
              "            + ' to learn more about interactive tables.';\n",
              "          element.innerHTML = '';\n",
              "          dataTable['output_type'] = 'display_data';\n",
              "          await google.colab.output.renderOutput(dataTable, element);\n",
              "          const docLink = document.createElement('div');\n",
              "          docLink.innerHTML = docLinkHtml;\n",
              "          element.appendChild(docLink);\n",
              "        }\n",
              "      </script>\n",
              "    </div>\n",
              "  </div>\n",
              "  "
            ],
            "text/plain": [
              "                       libros  altas_hospitalarias  ...  nacimientos  divorcios\n",
              "libros               1.000000             0.386677  ...     0.286193   0.059209\n",
              "altas_hospitalarias  0.386677             1.000000  ...    -0.089601  -0.141796\n",
              "matrimonios          0.051359            -0.013870  ...     0.382051   0.613402\n",
              "gasto_chocolate      0.171023             0.387990  ...    -0.229911   0.263128\n",
              "gasto_cerveza        0.090658            -0.129955  ...     0.809555   0.230688\n",
              "condenados          -0.078537            -0.094823  ...     0.268405   0.781370\n",
              "gasto_restaurante    0.520452             0.498431  ...     0.232884  -0.106225\n",
              "gasto_automoviles    0.063427             0.284025  ...     0.094185   0.580939\n",
              "gasto_vino           0.329029             0.632435  ...    -0.151590   0.383794\n",
              "nacimientos          0.286193            -0.089601  ...     1.000000   0.035456\n",
              "divorcios            0.059209            -0.141796  ...     0.035456   1.000000\n",
              "\n",
              "[11 rows x 11 columns]"
            ]
          },
          "metadata": {}
        }
      ]
    },
    {
      "cell_type": "code",
      "metadata": {
        "colab": {
          "base_uri": "https://localhost:8080/",
          "height": 353
        },
        "id": "gXY41yGbv_PR",
        "outputId": "1b2e8858-e321-4eaf-80cf-45857a6ff0dc"
      },
      "source": [
        "# Heatmap matriz de correlaciones\n",
        "\n",
        "heat_map = sns.heatmap(corr_matr)\n",
        "heat_map;"
      ],
      "execution_count": null,
      "outputs": [
        {
          "output_type": "display_data",
          "data": {
            "image/png": "[encoded data removed]",
            "text/plain": [
              "<Figure size 432x288 with 2 Axes>"
            ]
          },
          "metadata": {
            "needs_background": "light"
          }
        }
      ]
    },
    {
      "cell_type": "markdown",
      "source": [
        "Tanto a través de la matriz de correlación como del heatmap se observa una alta correlación entre las variables Gasto_cerveza y nacimientos. Procedemos a realizar un modelo de MCO para obtener más detalles."
      ],
      "metadata": {
        "id": "EbD9-zopFKpO"
      }
    },
    {
      "cell_type": "code",
      "source": [
        "#Gráfico\n",
        "x = data['gasto_cerveza']\n",
        "y = data['nacimientos']\n",
        "fig, ax = plt.subplots()\n",
        "ax.plot(x,y,'o')\n",
        "ax.set_title('Gasto en cerveza y nacimientos')\n",
        "\n",
        "#Para que aparezcan los nombres de las CCAA\n",
        "for i in range(data.shape[0]): #data.shape[0] es el número de filas del dataset, si fuera data.shape[1] sería el de las columnas\n",
        "    plt.text(x=data.gasto_cerveza[i]+0.001, y=data.nacimientos[i], s=data.ccaa[i],\n",
        "             fontdict=dict(color='orange',size=8))"
      ],
      "metadata": {
        "colab": {
          "base_uri": "https://localhost:8080/",
          "height": 281
        },
        "id": "iX2R7CM9ekpz",
        "outputId": "51cdf00c-72a8-4860-9d1c-8764d639f54c"
      },
      "execution_count": null,
      "outputs": [
        {
          "output_type": "display_data",
          "data": {
            "image/png": "[encoded data removed]",
            "text/plain": [
              "<Figure size 432x288 with 1 Axes>"
            ]
          },
          "metadata": {
            "needs_background": "light"
          }
        }
      ]
    },
    {
      "cell_type": "markdown",
      "source": [
        "##Ajuste del modelo"
      ],
      "metadata": {
        "id": "0aySZcgwerLV"
      }
    },
    {
      "cell_type": "code",
      "source": [
        "#Librería\n",
        "from sklearn.linear_model import LinearRegression\n",
        "\n",
        "reg =LinearRegression()\n",
        "reg.fit(x.values.reshape(-1,1),y) # ajuste del modelo\n",
        "\n",
        "# Calculo de las betas y de r2\n",
        "r2=(round(reg.score(x.values.reshape(-1,1), y),2))\n",
        "\n",
        "# Gráfico\n",
        "fig, ax = plt.subplots()\n",
        "ax.plot(x, y,'o',label='Puntos')\n",
        "ax.plot(x, reg.predict(x.values.reshape(-1,1)), label='Recta de regresion')\n",
        "ax.legend() #Para la leyenda dentro de la gráfica\n",
        "\n",
        "#Para insertar la cajita con información adicional\n",
        "textstr = r'$R2=%.2f$' % (r2, )\n",
        "ax.text(0.055,0.0075, textstr, fontsize = 12, bbox=dict(facecolor='orange', alpha=0.5))\n",
        "\n",
        "ax.set_title('Regresión lineal')\n",
        "fig.show()"
      ],
      "metadata": {
        "colab": {
          "base_uri": "https://localhost:8080/",
          "height": 281
        },
        "id": "4-vO5FZqeqgL",
        "outputId": "951698c2-7457-46a5-ff19-fb1f06dca29d"
      },
      "execution_count": null,
      "outputs": [
        {
          "output_type": "display_data",
          "data": {
            "image/png": "[encoded data removed]",
            "text/plain": [
              "<Figure size 432x288 with 1 Axes>"
            ]
          },
          "metadata": {
            "needs_background": "light"
          }
        }
      ]
    },
    {
      "cell_type": "markdown",
      "source": [
        "Según este análisis, los nacimientos son emplicados en un 66% (porcentaje bastante elevado) por el gasto en cerveza, de lo que se desperende que contra más cerveza se consume más niños nacen.\n",
        "\n",
        "Este es un buen ejemplo para ilustrar que una alta correlación no tiene que implicar causalidad, si no que puede haber muchos factores detrás, como simplemente la casualidad. De ahí la importancia del razocinio económico y saber separar una cosa de la otra."
      ],
      "metadata": {
        "id": "G2_g4AZ_FoYq"
      }
    }
  ]
}