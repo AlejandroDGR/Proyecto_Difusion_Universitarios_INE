{
  "nbformat": 4,
  "nbformat_minor": 0,
  "metadata": {
    "colab": {
      "name": "Ejemplo desigualdad Abel Cluster Jerárquico.ipynb",
      "provenance": [],
      "toc_visible": true
    },
    "kernelspec": {
      "name": "python3",
      "display_name": "Python 3"
    },
    "language_info": {
      "name": "python"
    }
  },
  "cells": [
    {
      "cell_type": "markdown",
      "metadata": {
        "id": "iM8shmxLjkzR"
      },
      "source": [
        "# **Análisis Cluster**\n",
        "El análisis cluster, o análisis de conglomerados, es una técnica estadística multivariante, cuyo objetivo es agrupar los elementos o variables análizadas en distintos grupos (clusters) en función de la homogeneidad existente entre ellas. \n",
        "\n",
        "En este caso nos vamos a centrar en el **método jerárquico**. Este método puede ser aglomerativo o divisivo, dependiendo si partimos de cluster individuales que se van conbinando y que convergen en uno solo o divisivo si es de forma opuesta. \n",
        "\n",
        "La gran diferencia con el método K-means es que este no requiere que se especifique de forma previa con cuantos cluster queremos contar. \n",
        "\n",
        "Para llevar a cabo nuestro ejemplo, escogeremos el dataset **desigualdad_ccaa**, elaborado a partir de los datos publicados por el INE."
      ]
    },
    {
      "cell_type": "markdown",
      "metadata": {
        "id": "9-CI14RrjrUo"
      },
      "source": [
        "## **Jerárquico**"
      ]
    },
    {
      "cell_type": "markdown",
      "metadata": {
        "id": "J-dcMOwQj2GJ"
      },
      "source": [
        "Cargamos las librerias que vamos a utilizar en el modelo."
      ]
    },
    {
      "cell_type": "code",
      "metadata": {
        "id": "fEFsERFQqVpO"
      },
      "source": [
        "# Preparación de los datos \n",
        "import numpy as np\n",
        "import pandas as pd\n",
        "import scipy.cluster.hierarchy as sch\n",
        "# Modelado \n",
        "from scipy.cluster.hierarchy import dendrogram, linkage, fcluster\n",
        "from scipy.spatial.distance import pdist\n",
        "from scipy.spatial.distance import squareform\n",
        "from scipy.cluster import hierarchy\n",
        "# Visualización\n",
        "import matplotlib.pyplot as plt"
      ],
      "execution_count": null,
      "outputs": []
    },
    {
      "cell_type": "markdown",
      "metadata": {
        "id": "n8XU1FF5rS1W"
      },
      "source": [
        "\n",
        "Subimos a Colab el archivo que vamos a utilizar, en nuestro caso es **desigualdad_ccaa**."
      ]
    },
    {
      "cell_type": "code",
      "metadata": {
        "colab": {
          "resources": {
            "http://localhost:8080/nbextensions/google.colab/files.js": {
              "data": "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",
              "ok": true,
              "headers": [
                [
                  "content-type",
                  "application/javascript"
                ]
              ],
              "status": 200,
              "status_text": ""
            }
          },
          "base_uri": "https://localhost:8080/",
          "height": 90
        },
        "id": "FSV3yiP7rTA9",
        "outputId": "e7a83d02-0edb-4558-bc44-9690d5540362"
      },
      "source": [
        "from google.colab import files\n",
        "uploaded = files.upload()"
      ],
      "execution_count": null,
      "outputs": [
        {
          "output_type": "display_data",
          "data": {
            "text/html": [
              "\n",
              "     <input type=\"file\" id=\"files-294c4f50-7454-4c27-87af-12d8e5e8e76f\" name=\"files[]\" multiple disabled\n",
              "        style=\"border:none\" />\n",
              "     <output id=\"result-294c4f50-7454-4c27-87af-12d8e5e8e76f\">\n",
              "      Upload widget is only available when the cell has been executed in the\n",
              "      current browser session. Please rerun this cell to enable.\n",
              "      </output>\n",
              "      <script src=\"/nbextensions/google.colab/files.js\"></script> "
            ],
            "text/plain": [
              "<IPython.core.display.HTML object>"
            ]
          },
          "metadata": {}
        },
        {
          "output_type": "stream",
          "text": [
            "Saving desigualdad_ccaa.xlsx to desigualdad_ccaa.xlsx\n"
          ],
          "name": "stdout"
        }
      ]
    },
    {
      "cell_type": "markdown",
      "metadata": {
        "id": "8dgUYqEAtFxj"
      },
      "source": [
        "Visualizamos los datos del archivo que acabamos de cargar."
      ]
    },
    {
      "cell_type": "code",
      "metadata": {
        "colab": {
          "base_uri": "https://localhost:8080/",
          "height": 277
        },
        "id": "3_tebXMjtF2e",
        "outputId": "bfe1c223-17f7-445d-8196-7245bed4f46b"
      },
      "source": [
        "datos=pd.read_excel('desigualdad_ccaa.xlsx')\n",
        "datos.head()"
      ],
      "execution_count": null,
      "outputs": [
        {
          "output_type": "execute_result",
          "data": {
            "text/html": [
              "<div>\n",
              "<style scoped>\n",
              "    .dataframe tbody tr th:only-of-type {\n",
              "        vertical-align: middle;\n",
              "    }\n",
              "\n",
              "    .dataframe tbody tr th {\n",
              "        vertical-align: top;\n",
              "    }\n",
              "\n",
              "    .dataframe thead th {\n",
              "        text-align: right;\n",
              "    }\n",
              "</style>\n",
              "<table border=\"1\" class=\"dataframe\">\n",
              "  <thead>\n",
              "    <tr style=\"text-align: right;\">\n",
              "      <th></th>\n",
              "      <th>CCAA</th>\n",
              "      <th>PIBpc</th>\n",
              "      <th>Rmedper</th>\n",
              "      <th>Rmedhog</th>\n",
              "      <th>Riespob</th>\n",
              "      <th>Evidanac</th>\n",
              "      <th>Tmortinf</th>\n",
              "      <th>Salmal</th>\n",
              "      <th>Analf</th>\n",
              "      <th>Salmed</th>\n",
              "      <th>Salmedmuj</th>\n",
              "      <th>Salmedhom</th>\n",
              "      <th>Paro</th>\n",
              "      <th>Parojuv</th>\n",
              "      <th>Parold</th>\n",
              "      <th>Ocuptc</th>\n",
              "      <th>Condhog</th>\n",
              "      <th>Gastomedper</th>\n",
              "      <th>Gastomedhog</th>\n",
              "      <th>Seg</th>\n",
              "      <th>Mencond</th>\n",
              "      <th>Pobsed</th>\n",
              "      <th>Satisviv</th>\n",
              "      <th>Satiseco</th>\n",
              "      <th>Satistrab</th>\n",
              "      <th>Probviv</th>\n",
              "      <th>Emp</th>\n",
              "      <th>Empind</th>\n",
              "      <th>Empcons</th>\n",
              "      <th>Empcotrahos</th>\n",
              "      <th>Empserv</th>\n",
              "      <th>Pobactdisc</th>\n",
              "      <th>Pobactnodisc</th>\n",
              "      <th>Vivord</th>\n",
              "      <th>Vivint</th>\n",
              "      <th>Vivfijo</th>\n",
              "      <th>Vivmovil</th>\n",
              "      <th>Niñomovil</th>\n",
              "      <th>Niñordena</th>\n",
              "      <th>Niñoint</th>\n",
              "      <th>Sobremay</th>\n",
              "      <th>Obemay</th>\n",
              "      <th>Sobremen</th>\n",
              "      <th>Obemen</th>\n",
              "      <th>Poblfum</th>\n",
              "      <th>Poblbeb</th>\n",
              "      <th>Empord</th>\n",
              "      <th>Empint</th>\n",
              "      <th>Empweb</th>\n",
              "      <th>Empsoc</th>\n",
              "    </tr>\n",
              "  </thead>\n",
              "  <tbody>\n",
              "    <tr>\n",
              "      <th>0</th>\n",
              "      <td>Andalucía</td>\n",
              "      <td>19633</td>\n",
              "      <td>9160</td>\n",
              "      <td>23826</td>\n",
              "      <td>31.3</td>\n",
              "      <td>82.22</td>\n",
              "      <td>3.17</td>\n",
              "      <td>7.75</td>\n",
              "      <td>2.6</td>\n",
              "      <td>21805.92</td>\n",
              "      <td>18672.11</td>\n",
              "      <td>24712.69</td>\n",
              "      <td>21.19</td>\n",
              "      <td>41.69</td>\n",
              "      <td>32.5</td>\n",
              "      <td>84.6</td>\n",
              "      <td>1.37</td>\n",
              "      <td>10602.70</td>\n",
              "      <td>27532.66</td>\n",
              "      <td>5.5</td>\n",
              "      <td>0.17</td>\n",
              "      <td>39.47</td>\n",
              "      <td>7.3</td>\n",
              "      <td>5.6</td>\n",
              "      <td>7.0</td>\n",
              "      <td>71.0</td>\n",
              "      <td>531045</td>\n",
              "      <td>28395</td>\n",
              "      <td>57938</td>\n",
              "      <td>212817</td>\n",
              "      <td>231895</td>\n",
              "      <td>30.2</td>\n",
              "      <td>73.9</td>\n",
              "      <td>76.8</td>\n",
              "      <td>94.7</td>\n",
              "      <td>61.8</td>\n",
              "      <td>99.3</td>\n",
              "      <td>67.6</td>\n",
              "      <td>85.5</td>\n",
              "      <td>91.3</td>\n",
              "      <td>37.5</td>\n",
              "      <td>21.0</td>\n",
              "      <td>20.9</td>\n",
              "      <td>12.5</td>\n",
              "      <td>22.7</td>\n",
              "      <td>16.2</td>\n",
              "      <td>99.2</td>\n",
              "      <td>98.2</td>\n",
              "      <td>71.5</td>\n",
              "      <td>54.3</td>\n",
              "    </tr>\n",
              "    <tr>\n",
              "      <th>1</th>\n",
              "      <td>Aragón</td>\n",
              "      <td>28727</td>\n",
              "      <td>12300</td>\n",
              "      <td>29672</td>\n",
              "      <td>17.9</td>\n",
              "      <td>83.90</td>\n",
              "      <td>2.14</td>\n",
              "      <td>6.54</td>\n",
              "      <td>0.7</td>\n",
              "      <td>23531.83</td>\n",
              "      <td>20074.25</td>\n",
              "      <td>26640.59</td>\n",
              "      <td>10.03</td>\n",
              "      <td>27.35</td>\n",
              "      <td>28.4</td>\n",
              "      <td>86.2</td>\n",
              "      <td>1.24</td>\n",
              "      <td>12775.48</td>\n",
              "      <td>30716.04</td>\n",
              "      <td>3.8</td>\n",
              "      <td>0.13</td>\n",
              "      <td>37.32</td>\n",
              "      <td>7.4</td>\n",
              "      <td>6.0</td>\n",
              "      <td>7.0</td>\n",
              "      <td>81.5</td>\n",
              "      <td>90682</td>\n",
              "      <td>6532</td>\n",
              "      <td>11787</td>\n",
              "      <td>31636</td>\n",
              "      <td>40727</td>\n",
              "      <td>40.0</td>\n",
              "      <td>79.9</td>\n",
              "      <td>85.0</td>\n",
              "      <td>96.3</td>\n",
              "      <td>80.0</td>\n",
              "      <td>99.7</td>\n",
              "      <td>71.2</td>\n",
              "      <td>96.1</td>\n",
              "      <td>93.5</td>\n",
              "      <td>36.8</td>\n",
              "      <td>15.7</td>\n",
              "      <td>18.2</td>\n",
              "      <td>2.5</td>\n",
              "      <td>24.1</td>\n",
              "      <td>19.0</td>\n",
              "      <td>99.2</td>\n",
              "      <td>98.3</td>\n",
              "      <td>85.4</td>\n",
              "      <td>64.7</td>\n",
              "    </tr>\n",
              "    <tr>\n",
              "      <th>2</th>\n",
              "      <td>Asturias, Principado de</td>\n",
              "      <td>23299</td>\n",
              "      <td>12523</td>\n",
              "      <td>27897</td>\n",
              "      <td>20.7</td>\n",
              "      <td>82.83</td>\n",
              "      <td>2.66</td>\n",
              "      <td>6.53</td>\n",
              "      <td>0.5</td>\n",
              "      <td>23914.61</td>\n",
              "      <td>19744.94</td>\n",
              "      <td>27912.91</td>\n",
              "      <td>14.19</td>\n",
              "      <td>28.70</td>\n",
              "      <td>41.5</td>\n",
              "      <td>86.1</td>\n",
              "      <td>0.35</td>\n",
              "      <td>12317.84</td>\n",
              "      <td>27367.02</td>\n",
              "      <td>1.8</td>\n",
              "      <td>0.21</td>\n",
              "      <td>33.92</td>\n",
              "      <td>7.5</td>\n",
              "      <td>6.3</td>\n",
              "      <td>6.9</td>\n",
              "      <td>69.9</td>\n",
              "      <td>68433</td>\n",
              "      <td>3495</td>\n",
              "      <td>8133</td>\n",
              "      <td>26459</td>\n",
              "      <td>30346</td>\n",
              "      <td>31.6</td>\n",
              "      <td>74.0</td>\n",
              "      <td>79.2</td>\n",
              "      <td>93.4</td>\n",
              "      <td>69.8</td>\n",
              "      <td>99.0</td>\n",
              "      <td>65.7</td>\n",
              "      <td>94.9</td>\n",
              "      <td>95.3</td>\n",
              "      <td>37.4</td>\n",
              "      <td>21.7</td>\n",
              "      <td>18.2</td>\n",
              "      <td>7.9</td>\n",
              "      <td>23.8</td>\n",
              "      <td>18.3</td>\n",
              "      <td>98.9</td>\n",
              "      <td>98.1</td>\n",
              "      <td>81.6</td>\n",
              "      <td>61.3</td>\n",
              "    </tr>\n",
              "    <tr>\n",
              "      <th>3</th>\n",
              "      <td>Balears, Illes</td>\n",
              "      <td>28213</td>\n",
              "      <td>12410</td>\n",
              "      <td>32179</td>\n",
              "      <td>12.0</td>\n",
              "      <td>83.71</td>\n",
              "      <td>3.25</td>\n",
              "      <td>4.99</td>\n",
              "      <td>1.5</td>\n",
              "      <td>22800.87</td>\n",
              "      <td>21085.74</td>\n",
              "      <td>24437.58</td>\n",
              "      <td>11.74</td>\n",
              "      <td>29.18</td>\n",
              "      <td>16.7</td>\n",
              "      <td>87.3</td>\n",
              "      <td>1.07</td>\n",
              "      <td>12765.75</td>\n",
              "      <td>33125.73</td>\n",
              "      <td>3.6</td>\n",
              "      <td>0.24</td>\n",
              "      <td>39.58</td>\n",
              "      <td>7.7</td>\n",
              "      <td>5.9</td>\n",
              "      <td>7.3</td>\n",
              "      <td>65.4</td>\n",
              "      <td>100022</td>\n",
              "      <td>4834</td>\n",
              "      <td>17291</td>\n",
              "      <td>31172</td>\n",
              "      <td>46725</td>\n",
              "      <td>38.5</td>\n",
              "      <td>79.7</td>\n",
              "      <td>85.2</td>\n",
              "      <td>95.6</td>\n",
              "      <td>75.4</td>\n",
              "      <td>98.9</td>\n",
              "      <td>68.7</td>\n",
              "      <td>95.1</td>\n",
              "      <td>98.5</td>\n",
              "      <td>31.1</td>\n",
              "      <td>15.5</td>\n",
              "      <td>23.0</td>\n",
              "      <td>10.0</td>\n",
              "      <td>23.1</td>\n",
              "      <td>16.7</td>\n",
              "      <td>99.3</td>\n",
              "      <td>97.6</td>\n",
              "      <td>81.4</td>\n",
              "      <td>73.0</td>\n",
              "    </tr>\n",
              "    <tr>\n",
              "      <th>4</th>\n",
              "      <td>Canarias</td>\n",
              "      <td>21244</td>\n",
              "      <td>9487</td>\n",
              "      <td>24565</td>\n",
              "      <td>28.5</td>\n",
              "      <td>82.79</td>\n",
              "      <td>2.72</td>\n",
              "      <td>7.55</td>\n",
              "      <td>1.6</td>\n",
              "      <td>20763.48</td>\n",
              "      <td>19051.01</td>\n",
              "      <td>22333.63</td>\n",
              "      <td>20.49</td>\n",
              "      <td>42.18</td>\n",
              "      <td>34.0</td>\n",
              "      <td>87.1</td>\n",
              "      <td>1.34</td>\n",
              "      <td>9851.50</td>\n",
              "      <td>25389.65</td>\n",
              "      <td>6.4</td>\n",
              "      <td>0.26</td>\n",
              "      <td>41.49</td>\n",
              "      <td>7.1</td>\n",
              "      <td>5.6</td>\n",
              "      <td>7.1</td>\n",
              "      <td>76.1</td>\n",
              "      <td>152756</td>\n",
              "      <td>5677</td>\n",
              "      <td>16951</td>\n",
              "      <td>58466</td>\n",
              "      <td>71662</td>\n",
              "      <td>25.8</td>\n",
              "      <td>75.8</td>\n",
              "      <td>80.5</td>\n",
              "      <td>96.2</td>\n",
              "      <td>81.8</td>\n",
              "      <td>99.5</td>\n",
              "      <td>65.4</td>\n",
              "      <td>91.4</td>\n",
              "      <td>90.4</td>\n",
              "      <td>37.2</td>\n",
              "      <td>19.3</td>\n",
              "      <td>25.2</td>\n",
              "      <td>10.4</td>\n",
              "      <td>22.3</td>\n",
              "      <td>6.6</td>\n",
              "      <td>98.3</td>\n",
              "      <td>97.8</td>\n",
              "      <td>67.8</td>\n",
              "      <td>62.8</td>\n",
              "    </tr>\n",
              "  </tbody>\n",
              "</table>\n",
              "</div>"
            ],
            "text/plain": [
              "                          CCAA  PIBpc  Rmedper  ...  Empint  Empweb  Empsoc\n",
              "0                    Andalucía  19633     9160  ...    98.2    71.5    54.3\n",
              "1                       Aragón  28727    12300  ...    98.3    85.4    64.7\n",
              "2      Asturias, Principado de  23299    12523  ...    98.1    81.6    61.3\n",
              "3               Balears, Illes  28213    12410  ...    97.6    81.4    73.0\n",
              "4                     Canarias  21244     9487  ...    97.8    67.8    62.8\n",
              "\n",
              "[5 rows x 50 columns]"
            ]
          },
          "metadata": {},
          "execution_count": 3
        }
      ]
    },
    {
      "cell_type": "markdown",
      "metadata": {
        "id": "O2xM3fp52ryc"
      },
      "source": [
        "Creamos las diferentes variables que vamos a utilizar. En este caso, en la variable columnas, seleccionaremos las que vamos a analizar, en nuestro caso, el salario medio anual de mujeres y hombres. Después, la lista que acabamos de crear, la convertimos en un DataFrame (resultado). Además, también tenemos nuestra serie con las comunidades autónomas. "
      ]
    },
    {
      "cell_type": "code",
      "metadata": {
        "id": "QMTW6IwYwxpK"
      },
      "source": [
        "columnas = [\"Salmedmuj\", \"Salmedhom\"]\n",
        "resultado = datos[columnas]\n",
        "comunidades = datos[\"CCAA\"]"
      ],
      "execution_count": null,
      "outputs": []
    },
    {
      "cell_type": "markdown",
      "metadata": {
        "id": "sQ9rzAxpto6G"
      },
      "source": [
        "### **Dendrograma**\n",
        "Para representar gráficamente nuestro modelo, escogeremos una tipología como la del dendrograma, ya que nos permitirá observar los dintintos cluster que se han formado, las relaciones entre las diferentes variables y la distancia entre unas y otras. \n",
        "\n",
        "Además, en nuestro caso seleccionaremos que las variables se situen a la izquierda, es decir, situaremos el dendrograma a la derecha, para que podamos leer las variables sin ningún tipo de problema. "
      ]
    },
    {
      "cell_type": "code",
      "metadata": {
        "colab": {
          "base_uri": "https://localhost:8080/",
          "height": 295
        },
        "id": "ODIUSYoy5jLf",
        "outputId": "39170050-7551-4a92-e41d-a5576439bad5"
      },
      "source": [
        "W = hierarchy.linkage(resultado, 'single')\n",
        "dendrograma = sch.dendrogram(W,labels=np.array(comunidades),orientation='right')\n",
        "\n",
        "plt.title('Dendrograma')\n",
        "plt.xlabel('Distancia')\n",
        "plt.ylabel('Comunidades Autónomas')\n",
        "plt.show()\n"
      ],
      "execution_count": null,
      "outputs": [
        {
          "output_type": "display_data",
          "data": {
            "image/png": "[encoded data removed]",
            "text/plain": [
              "<Figure size 432x288 with 1 Axes>"
            ]
          },
          "metadata": {
            "needs_background": "light"
          }
        }
      ]
    },
    {
      "cell_type": "markdown",
      "metadata": {
        "id": "xT6b5ZeZzP4J"
      },
      "source": [
        "### **Matriz de distancias**\n",
        "Para ver numéricamente la distancia entre nuestras variables (CCAA), realizamos la matriz de distancias, la cual nos muestra la distancia euclídea entre los puntos analizados, siendo una matriz *n x n*.\n",
        "\n",
        "Inicialmente tenemos el vector con las distancias entre los datos analizados, a través de **pdist( )**. Posteriormente, **squareform( )** convierte el vector de distancia en una matriz de distancia. Por último, contruimos nuestra matriz. "
      ]
    },
    {
      "cell_type": "code",
      "metadata": {
        "colab": {
          "base_uri": "https://localhost:8080/",
          "height": 343
        },
        "id": "76Di8ya3zQBe",
        "outputId": "48a9bc3a-87ef-498c-9843-18252ffa29e0"
      },
      "source": [
        "dist=pdist(resultado)  \n",
        "\n",
        "DIST=squareform(dist) \n",
        "\n",
        "df=pd.DataFrame(DIST,index=comunidades,columns=comunidades) \n",
        "pd.set_option('precision',1)\n",
        "df.head()"
      ],
      "execution_count": null,
      "outputs": [
        {
          "output_type": "execute_result",
          "data": {
            "text/html": [
              "<div>\n",
              "<style scoped>\n",
              "    .dataframe tbody tr th:only-of-type {\n",
              "        vertical-align: middle;\n",
              "    }\n",
              "\n",
              "    .dataframe tbody tr th {\n",
              "        vertical-align: top;\n",
              "    }\n",
              "\n",
              "    .dataframe thead th {\n",
              "        text-align: right;\n",
              "    }\n",
              "</style>\n",
              "<table border=\"1\" class=\"dataframe\">\n",
              "  <thead>\n",
              "    <tr style=\"text-align: right;\">\n",
              "      <th>CCAA</th>\n",
              "      <th>Andalucía</th>\n",
              "      <th>Aragón</th>\n",
              "      <th>Asturias, Principado de</th>\n",
              "      <th>Balears, Illes</th>\n",
              "      <th>Canarias</th>\n",
              "      <th>Cantabria</th>\n",
              "      <th>Castilla y León</th>\n",
              "      <th>Castilla - La Mancha</th>\n",
              "      <th>Cataluña</th>\n",
              "      <th>Comunitat Valenciana</th>\n",
              "      <th>Extremadura</th>\n",
              "      <th>Galicia</th>\n",
              "      <th>Madrid, Comunidad de</th>\n",
              "      <th>Murcia, Región de</th>\n",
              "      <th>Navarra, Comunidad Foral de</th>\n",
              "      <th>País Vasco</th>\n",
              "      <th>Rioja, La</th>\n",
              "    </tr>\n",
              "    <tr>\n",
              "      <th>CCAA</th>\n",
              "      <th></th>\n",
              "      <th></th>\n",
              "      <th></th>\n",
              "      <th></th>\n",
              "      <th></th>\n",
              "      <th></th>\n",
              "      <th></th>\n",
              "      <th></th>\n",
              "      <th></th>\n",
              "      <th></th>\n",
              "      <th></th>\n",
              "      <th></th>\n",
              "      <th></th>\n",
              "      <th></th>\n",
              "      <th></th>\n",
              "      <th></th>\n",
              "      <th></th>\n",
              "    </tr>\n",
              "  </thead>\n",
              "  <tbody>\n",
              "    <tr>\n",
              "      <th>Andalucía</th>\n",
              "      <td>0.0</td>\n",
              "      <td>2383.9</td>\n",
              "      <td>3375.3</td>\n",
              "      <td>2429.3</td>\n",
              "      <td>2409.0</td>\n",
              "      <td>1150.0</td>\n",
              "      <td>384.4</td>\n",
              "      <td>860.3</td>\n",
              "      <td>5339.8</td>\n",
              "      <td>590.3</td>\n",
              "      <td>3000.8</td>\n",
              "      <td>878.5</td>\n",
              "      <td>7324.7</td>\n",
              "      <td>1045.0</td>\n",
              "      <td>6290.2</td>\n",
              "      <td>9471.1</td>\n",
              "      <td>1408.1</td>\n",
              "    </tr>\n",
              "    <tr>\n",
              "      <th>Aragón</th>\n",
              "      <td>2383.9</td>\n",
              "      <td>0.0</td>\n",
              "      <td>1314.2</td>\n",
              "      <td>2424.1</td>\n",
              "      <td>4426.8</td>\n",
              "      <td>1365.8</td>\n",
              "      <td>2178.8</td>\n",
              "      <td>2855.9</td>\n",
              "      <td>2984.6</td>\n",
              "      <td>2264.5</td>\n",
              "      <td>5282.1</td>\n",
              "      <td>1889.8</td>\n",
              "      <td>4992.1</td>\n",
              "      <td>3316.7</td>\n",
              "      <td>3914.6</td>\n",
              "      <td>7094.8</td>\n",
              "      <td>1090.4</td>\n",
              "    </tr>\n",
              "    <tr>\n",
              "      <th>Asturias, Principado de</th>\n",
              "      <td>3375.3</td>\n",
              "      <td>1314.2</td>\n",
              "      <td>0.0</td>\n",
              "      <td>3725.0</td>\n",
              "      <td>5622.3</td>\n",
              "      <td>2566.5</td>\n",
              "      <td>3272.1</td>\n",
              "      <td>4006.9</td>\n",
              "      <td>2646.9</td>\n",
              "      <td>3414.0</td>\n",
              "      <td>6369.9</td>\n",
              "      <td>3092.6</td>\n",
              "      <td>4593.9</td>\n",
              "      <td>4394.8</td>\n",
              "      <td>3374.2</td>\n",
              "      <td>6448.6</td>\n",
              "      <td>2319.8</td>\n",
              "    </tr>\n",
              "    <tr>\n",
              "      <th>Balears, Illes</th>\n",
              "      <td>2429.3</td>\n",
              "      <td>2424.1</td>\n",
              "      <td>3725.0</td>\n",
              "      <td>0.0</td>\n",
              "      <td>2926.9</td>\n",
              "      <td>1717.5</td>\n",
              "      <td>2048.0</td>\n",
              "      <td>2053.2</td>\n",
              "      <td>4371.8</td>\n",
              "      <td>1852.7</td>\n",
              "      <td>4083.7</td>\n",
              "      <td>1590.9</td>\n",
              "      <td>6082.6</td>\n",
              "      <td>2602.8</td>\n",
              "      <td>5356.8</td>\n",
              "      <td>8379.8</td>\n",
              "      <td>1750.5</td>\n",
              "    </tr>\n",
              "    <tr>\n",
              "      <th>Canarias</th>\n",
              "      <td>2409.0</td>\n",
              "      <td>4426.8</td>\n",
              "      <td>5622.3</td>\n",
              "      <td>2926.9</td>\n",
              "      <td>0.0</td>\n",
              "      <td>3070.5</td>\n",
              "      <td>2380.4</td>\n",
              "      <td>1626.9</td>\n",
              "      <td>7089.7</td>\n",
              "      <td>2211.2</td>\n",
              "      <td>1205.6</td>\n",
              "      <td>2541.4</td>\n",
              "      <td>8930.6</td>\n",
              "      <td>1411.1</td>\n",
              "      <td>8081.9</td>\n",
              "      <td>11199.4</td>\n",
              "      <td>3338.2</td>\n",
              "    </tr>\n",
              "  </tbody>\n",
              "</table>\n",
              "</div>"
            ],
            "text/plain": [
              "CCAA                             Andalucía  ...      Rioja, La\n",
              "CCAA                                        ...               \n",
              "    Andalucía                          0.0  ...         1408.1\n",
              "    Aragón                          2383.9  ...         1090.4\n",
              "    Asturias, Principado de         3375.3  ...         2319.8\n",
              "    Balears, Illes                  2429.3  ...         1750.5\n",
              "    Canarias                        2409.0  ...         3338.2\n",
              "\n",
              "[5 rows x 17 columns]"
            ]
          },
          "metadata": {},
          "execution_count": 6
        }
      ]
    },
    {
      "cell_type": "markdown",
      "metadata": {
        "id": "ajIoKP3fCs3_"
      },
      "source": [
        "Vamos a asignar los cluster a las CCAA.\n",
        "\n",
        "t es la altura donde queremos realizar el corte en nuestro dendrograma.\n",
        "\n",
        "Y le decimos que aplique un criterio de distancia"
      ]
    },
    {
      "cell_type": "code",
      "metadata": {
        "colab": {
          "base_uri": "https://localhost:8080/"
        },
        "id": "iGgNjdrGCtIX",
        "outputId": "d7285de3-21a4-4f95-fd29-41b2c2bdf30e"
      },
      "source": [
        "clusters = fcluster(W, t=2000, criterion='distance')\n",
        "clusters"
      ],
      "execution_count": null,
      "outputs": [
        {
          "output_type": "execute_result",
          "data": {
            "text/plain": [
              "array([1, 1, 1, 1, 1, 1, 1, 1, 2, 1, 1, 1, 2, 1, 2, 3, 1], dtype=int32)"
            ]
          },
          "metadata": {},
          "execution_count": 8
        }
      ]
    },
    {
      "cell_type": "code",
      "metadata": {
        "colab": {
          "base_uri": "https://localhost:8080/",
          "height": 581
        },
        "id": "LU_7WgyKFPno",
        "outputId": "62a34c96-ca0c-4e97-b6f9-aa1d6aeddc11"
      },
      "source": [
        "clusters_ccaa=pd.concat([comunidades,pd.DataFrame(clusters)],axis=1)\n",
        "clusters_ccaa.rename(columns={\"CCAA\":\"Comunidades Autónomas\",0:\"Cluster\"},inplace=True)\n",
        "clusters_ccaa"
      ],
      "execution_count": null,
      "outputs": [
        {
          "output_type": "execute_result",
          "data": {
            "text/html": [
              "<div>\n",
              "<style scoped>\n",
              "    .dataframe tbody tr th:only-of-type {\n",
              "        vertical-align: middle;\n",
              "    }\n",
              "\n",
              "    .dataframe tbody tr th {\n",
              "        vertical-align: top;\n",
              "    }\n",
              "\n",
              "    .dataframe thead th {\n",
              "        text-align: right;\n",
              "    }\n",
              "</style>\n",
              "<table border=\"1\" class=\"dataframe\">\n",
              "  <thead>\n",
              "    <tr style=\"text-align: right;\">\n",
              "      <th></th>\n",
              "      <th>Comunidades Autónomas</th>\n",
              "      <th>Cluster</th>\n",
              "    </tr>\n",
              "  </thead>\n",
              "  <tbody>\n",
              "    <tr>\n",
              "      <th>0</th>\n",
              "      <td>Andalucía</td>\n",
              "      <td>1</td>\n",
              "    </tr>\n",
              "    <tr>\n",
              "      <th>1</th>\n",
              "      <td>Aragón</td>\n",
              "      <td>1</td>\n",
              "    </tr>\n",
              "    <tr>\n",
              "      <th>2</th>\n",
              "      <td>Asturias, Principado de</td>\n",
              "      <td>1</td>\n",
              "    </tr>\n",
              "    <tr>\n",
              "      <th>3</th>\n",
              "      <td>Balears, Illes</td>\n",
              "      <td>1</td>\n",
              "    </tr>\n",
              "    <tr>\n",
              "      <th>4</th>\n",
              "      <td>Canarias</td>\n",
              "      <td>1</td>\n",
              "    </tr>\n",
              "    <tr>\n",
              "      <th>5</th>\n",
              "      <td>Cantabria</td>\n",
              "      <td>1</td>\n",
              "    </tr>\n",
              "    <tr>\n",
              "      <th>6</th>\n",
              "      <td>Castilla y León</td>\n",
              "      <td>1</td>\n",
              "    </tr>\n",
              "    <tr>\n",
              "      <th>7</th>\n",
              "      <td>Castilla - La Mancha</td>\n",
              "      <td>1</td>\n",
              "    </tr>\n",
              "    <tr>\n",
              "      <th>8</th>\n",
              "      <td>Cataluña</td>\n",
              "      <td>2</td>\n",
              "    </tr>\n",
              "    <tr>\n",
              "      <th>9</th>\n",
              "      <td>Comunitat Valenciana</td>\n",
              "      <td>1</td>\n",
              "    </tr>\n",
              "    <tr>\n",
              "      <th>10</th>\n",
              "      <td>Extremadura</td>\n",
              "      <td>1</td>\n",
              "    </tr>\n",
              "    <tr>\n",
              "      <th>11</th>\n",
              "      <td>Galicia</td>\n",
              "      <td>1</td>\n",
              "    </tr>\n",
              "    <tr>\n",
              "      <th>12</th>\n",
              "      <td>Madrid, Comunidad de</td>\n",
              "      <td>2</td>\n",
              "    </tr>\n",
              "    <tr>\n",
              "      <th>13</th>\n",
              "      <td>Murcia, Región de</td>\n",
              "      <td>1</td>\n",
              "    </tr>\n",
              "    <tr>\n",
              "      <th>14</th>\n",
              "      <td>Navarra, Comunidad Foral de</td>\n",
              "      <td>2</td>\n",
              "    </tr>\n",
              "    <tr>\n",
              "      <th>15</th>\n",
              "      <td>País Vasco</td>\n",
              "      <td>3</td>\n",
              "    </tr>\n",
              "    <tr>\n",
              "      <th>16</th>\n",
              "      <td>Rioja, La</td>\n",
              "      <td>1</td>\n",
              "    </tr>\n",
              "  </tbody>\n",
              "</table>\n",
              "</div>"
            ],
            "text/plain": [
              "              Comunidades Autónomas  Cluster\n",
              "0                         Andalucía        1\n",
              "1                            Aragón        1\n",
              "2           Asturias, Principado de        1\n",
              "3                    Balears, Illes        1\n",
              "4                          Canarias        1\n",
              "5                         Cantabria        1\n",
              "6                   Castilla y León        1\n",
              "7              Castilla - La Mancha        1\n",
              "8                          Cataluña        2\n",
              "9              Comunitat Valenciana        1\n",
              "10                      Extremadura        1\n",
              "11                          Galicia        1\n",
              "12             Madrid, Comunidad de        2\n",
              "13                Murcia, Región de        1\n",
              "14      Navarra, Comunidad Foral de        2\n",
              "15                       País Vasco        3\n",
              "16                        Rioja, La        1"
            ]
          },
          "metadata": {},
          "execution_count": 9
        }
      ]
    },
    {
      "cell_type": "markdown",
      "metadata": {
        "id": "sFMqYPKNIH9s"
      },
      "source": [
        "Vamos a plasmar gráficamente la situación de los puntos en el plano. Lo primero que haremos será definir nuestra función a plasmar, en este caso situación. Después, utilizaremos la función ax.text( ) para que salgan los nombres de las CCAA, así como ax.set_xlim y ax.set_ylim para decirles en que puntos se mueven nuestros ejes. Por último, fig.set_figheight( ) y fig.set_figwidth( ) nos proporcionan la altura y anchura de nuestro gráfico respectivamente. \n",
        "\n",
        "Para poder solucionar el problema que presenta a la hora utilizar el DataFrame (resultado), utilizamos las función .iloc[ ] para acceder a los elementos que estamos analizando. "
      ]
    },
    {
      "cell_type": "code",
      "metadata": {
        "colab": {
          "base_uri": "https://localhost:8080/",
          "height": 513
        },
        "id": "5WjYRL-QEflj",
        "outputId": "b13ff966-6838-46f5-cf52-68445fb489ba"
      },
      "source": [
        "def situacion(x,y,z):\n",
        "    fig, ax = plt.subplots()\n",
        "    ax.scatter(x, y, s=100)\n",
        "    for i in range(17):       \n",
        "      ax.text(x[i]+400,y[i]+300, z[i], color = 'black', ha = 'center', va = 'center')\n",
        "    ax.set_xlim(15000,26000)\n",
        "    ax.set_ylim(20000,33000)\n",
        "    ax.set_title('Situación de los puntos en un plano')\n",
        "    ax.set_xlabel('Salario medio anual de las mujeres (en €)')\n",
        "    ax.set_ylabel('salario medio anual de los hombres (en €)')\n",
        "    fig.set_figheight(8)\n",
        "    fig.set_figwidth(13)\n",
        "    fig.show()\n",
        "\n",
        "\n",
        "situacion(resultado.iloc[:,0],resultado.iloc[:,1],comunidades)"
      ],
      "execution_count": null,
      "outputs": [
        {
          "output_type": "display_data",
          "data": {
            "image/png": "[encoded data removed]",
            "text/plain": [
              "<Figure size 936x576 with 1 Axes>"
            ]
          },
          "metadata": {
            "needs_background": "light"
          }
        }
      ]
    },
    {
      "cell_type": "markdown",
      "metadata": {
        "id": "ymFDRzWdYafT"
      },
      "source": [
        ""
      ]
    }
  ]
}